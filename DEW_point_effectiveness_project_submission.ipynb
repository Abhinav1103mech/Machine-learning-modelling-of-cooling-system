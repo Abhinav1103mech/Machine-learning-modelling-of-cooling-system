{
 "cells": [
  {
   "cell_type": "code",
   "execution_count": 1,
   "metadata": {},
   "outputs": [],
   "source": [
    "import pandas as pd\n",
    "import numpy as np\n",
    "import matplotlib.pyplot as plt\n",
    "import seaborn as sns"
   ]
  },
  {
   "cell_type": "code",
   "execution_count": 2,
   "metadata": {},
   "outputs": [],
   "source": [
    "Project = pd.read_csv(r\"C:\\Users\\user\\Desktop\\DewPointEffectivenessCSV.csv\")"
   ]
  },
  {
   "cell_type": "markdown",
   "metadata": {},
   "source": [
    "#### Following are the 6 input parameter\n",
    "1)Inlet Temp\n",
    "2)inlet Air flow rate\n",
    "3)Specific Humidity(keeping const = .01)\n",
    "4)Extraction Ratio\n",
    "5)inlet water flow rate\n",
    "6)water inlet tempreture\n",
    "#### Output\n",
    "Dew_point_effectiveness"
   ]
  },
  {
   "cell_type": "code",
   "execution_count": 3,
   "metadata": {},
   "outputs": [
    {
     "data": {
      "text/html": [
       "<div>\n",
       "<style scoped>\n",
       "    .dataframe tbody tr th:only-of-type {\n",
       "        vertical-align: middle;\n",
       "    }\n",
       "\n",
       "    .dataframe tbody tr th {\n",
       "        vertical-align: top;\n",
       "    }\n",
       "\n",
       "    .dataframe thead th {\n",
       "        text-align: right;\n",
       "    }\n",
       "</style>\n",
       "<table border=\"1\" class=\"dataframe\">\n",
       "  <thead>\n",
       "    <tr style=\"text-align: right;\">\n",
       "      <th></th>\n",
       "      <th>T_INPUT</th>\n",
       "      <th>Air_Flow_Rate</th>\n",
       "      <th>Specific_Humidity(g/kg)</th>\n",
       "      <th>Water_flow_Temp</th>\n",
       "      <th>Water_inlet_rate(lph)</th>\n",
       "      <th>Extraction_ratio</th>\n",
       "      <th>Dew_point_effectiveness</th>\n",
       "    </tr>\n",
       "  </thead>\n",
       "  <tbody>\n",
       "    <tr>\n",
       "      <th>0</th>\n",
       "      <td>44.24</td>\n",
       "      <td>2.300</td>\n",
       "      <td>18.1</td>\n",
       "      <td>19.5</td>\n",
       "      <td>11.6</td>\n",
       "      <td>0.75</td>\n",
       "      <td>0.7048</td>\n",
       "    </tr>\n",
       "    <tr>\n",
       "      <th>1</th>\n",
       "      <td>43.50</td>\n",
       "      <td>2.200</td>\n",
       "      <td>18.5</td>\n",
       "      <td>19.5</td>\n",
       "      <td>11.6</td>\n",
       "      <td>0.73</td>\n",
       "      <td>0.6902</td>\n",
       "    </tr>\n",
       "    <tr>\n",
       "      <th>2</th>\n",
       "      <td>42.28</td>\n",
       "      <td>2.140</td>\n",
       "      <td>19.0</td>\n",
       "      <td>19.0</td>\n",
       "      <td>11.6</td>\n",
       "      <td>0.71</td>\n",
       "      <td>0.6876</td>\n",
       "    </tr>\n",
       "    <tr>\n",
       "      <th>3</th>\n",
       "      <td>41.16</td>\n",
       "      <td>2.050</td>\n",
       "      <td>19.4</td>\n",
       "      <td>18.5</td>\n",
       "      <td>11.6</td>\n",
       "      <td>0.71</td>\n",
       "      <td>0.6847</td>\n",
       "    </tr>\n",
       "    <tr>\n",
       "      <th>4</th>\n",
       "      <td>40.04</td>\n",
       "      <td>1.970</td>\n",
       "      <td>19.6</td>\n",
       "      <td>18.1</td>\n",
       "      <td>11.6</td>\n",
       "      <td>0.69</td>\n",
       "      <td>0.6703</td>\n",
       "    </tr>\n",
       "    <tr>\n",
       "      <th>5</th>\n",
       "      <td>39.06</td>\n",
       "      <td>1.885</td>\n",
       "      <td>20.0</td>\n",
       "      <td>17.5</td>\n",
       "      <td>11.6</td>\n",
       "      <td>0.67</td>\n",
       "      <td>0.6776</td>\n",
       "    </tr>\n",
       "    <tr>\n",
       "      <th>6</th>\n",
       "      <td>38.10</td>\n",
       "      <td>1.800</td>\n",
       "      <td>20.3</td>\n",
       "      <td>17.2</td>\n",
       "      <td>11.6</td>\n",
       "      <td>0.67</td>\n",
       "      <td>0.6735</td>\n",
       "    </tr>\n",
       "    <tr>\n",
       "      <th>7</th>\n",
       "      <td>37.18</td>\n",
       "      <td>1.713</td>\n",
       "      <td>20.1</td>\n",
       "      <td>16.8</td>\n",
       "      <td>11.6</td>\n",
       "      <td>0.65</td>\n",
       "      <td>0.6687</td>\n",
       "    </tr>\n",
       "    <tr>\n",
       "      <th>8</th>\n",
       "      <td>36.05</td>\n",
       "      <td>1.627</td>\n",
       "      <td>20.4</td>\n",
       "      <td>16.5</td>\n",
       "      <td>11.6</td>\n",
       "      <td>0.63</td>\n",
       "      <td>0.6611</td>\n",
       "    </tr>\n",
       "    <tr>\n",
       "      <th>9</th>\n",
       "      <td>35.50</td>\n",
       "      <td>1.540</td>\n",
       "      <td>21.3</td>\n",
       "      <td>16.2</td>\n",
       "      <td>11.6</td>\n",
       "      <td>0.61</td>\n",
       "      <td>0.6576</td>\n",
       "    </tr>\n",
       "    <tr>\n",
       "      <th>10</th>\n",
       "      <td>35.10</td>\n",
       "      <td>1.450</td>\n",
       "      <td>21.5</td>\n",
       "      <td>16.2</td>\n",
       "      <td>11.6</td>\n",
       "      <td>0.59</td>\n",
       "      <td>0.6545</td>\n",
       "    </tr>\n",
       "    <tr>\n",
       "      <th>11</th>\n",
       "      <td>34.50</td>\n",
       "      <td>1.370</td>\n",
       "      <td>21.7</td>\n",
       "      <td>15.9</td>\n",
       "      <td>11.6</td>\n",
       "      <td>0.57</td>\n",
       "      <td>0.6492</td>\n",
       "    </tr>\n",
       "    <tr>\n",
       "      <th>12</th>\n",
       "      <td>34.01</td>\n",
       "      <td>1.280</td>\n",
       "      <td>22.0</td>\n",
       "      <td>15.7</td>\n",
       "      <td>11.6</td>\n",
       "      <td>0.55</td>\n",
       "      <td>0.6444</td>\n",
       "    </tr>\n",
       "    <tr>\n",
       "      <th>13</th>\n",
       "      <td>33.60</td>\n",
       "      <td>1.197</td>\n",
       "      <td>22.1</td>\n",
       "      <td>15.4</td>\n",
       "      <td>11.6</td>\n",
       "      <td>0.53</td>\n",
       "      <td>0.6400</td>\n",
       "    </tr>\n",
       "    <tr>\n",
       "      <th>14</th>\n",
       "      <td>32.98</td>\n",
       "      <td>1.100</td>\n",
       "      <td>22.4</td>\n",
       "      <td>15.2</td>\n",
       "      <td>11.6</td>\n",
       "      <td>0.51</td>\n",
       "      <td>0.6326</td>\n",
       "    </tr>\n",
       "    <tr>\n",
       "      <th>15</th>\n",
       "      <td>32.00</td>\n",
       "      <td>1.024</td>\n",
       "      <td>22.8</td>\n",
       "      <td>14.8</td>\n",
       "      <td>11.6</td>\n",
       "      <td>0.48</td>\n",
       "      <td>0.6188</td>\n",
       "    </tr>\n",
       "    <tr>\n",
       "      <th>16</th>\n",
       "      <td>31.52</td>\n",
       "      <td>0.940</td>\n",
       "      <td>23.0</td>\n",
       "      <td>14.2</td>\n",
       "      <td>11.6</td>\n",
       "      <td>0.44</td>\n",
       "      <td>0.6208</td>\n",
       "    </tr>\n",
       "    <tr>\n",
       "      <th>17</th>\n",
       "      <td>31.04</td>\n",
       "      <td>0.850</td>\n",
       "      <td>23.2</td>\n",
       "      <td>14.3</td>\n",
       "      <td>11.6</td>\n",
       "      <td>0.41</td>\n",
       "      <td>0.6021</td>\n",
       "    </tr>\n",
       "    <tr>\n",
       "      <th>18</th>\n",
       "      <td>30.50</td>\n",
       "      <td>0.770</td>\n",
       "      <td>23.4</td>\n",
       "      <td>13.5</td>\n",
       "      <td>11.6</td>\n",
       "      <td>0.38</td>\n",
       "      <td>0.5911</td>\n",
       "    </tr>\n",
       "    <tr>\n",
       "      <th>19</th>\n",
       "      <td>30.03</td>\n",
       "      <td>0.680</td>\n",
       "      <td>23.6</td>\n",
       "      <td>13.2</td>\n",
       "      <td>11.6</td>\n",
       "      <td>0.36</td>\n",
       "      <td>0.5804</td>\n",
       "    </tr>\n",
       "    <tr>\n",
       "      <th>20</th>\n",
       "      <td>29.10</td>\n",
       "      <td>0.594</td>\n",
       "      <td>23.9</td>\n",
       "      <td>13.2</td>\n",
       "      <td>11.6</td>\n",
       "      <td>0.33</td>\n",
       "      <td>0.5554</td>\n",
       "    </tr>\n",
       "    <tr>\n",
       "      <th>21</th>\n",
       "      <td>28.02</td>\n",
       "      <td>0.508</td>\n",
       "      <td>23.8</td>\n",
       "      <td>12.8</td>\n",
       "      <td>11.6</td>\n",
       "      <td>0.31</td>\n",
       "      <td>0.5265</td>\n",
       "    </tr>\n",
       "    <tr>\n",
       "      <th>22</th>\n",
       "      <td>27.20</td>\n",
       "      <td>0.500</td>\n",
       "      <td>24.0</td>\n",
       "      <td>12.6</td>\n",
       "      <td>11.6</td>\n",
       "      <td>0.30</td>\n",
       "      <td>0.4835</td>\n",
       "    </tr>\n",
       "  </tbody>\n",
       "</table>\n",
       "</div>"
      ],
      "text/plain": [
       "    T_INPUT  Air_Flow_Rate  Specific_Humidity(g/kg)  Water_flow_Temp  \\\n",
       "0     44.24          2.300                     18.1             19.5   \n",
       "1     43.50          2.200                     18.5             19.5   \n",
       "2     42.28          2.140                     19.0             19.0   \n",
       "3     41.16          2.050                     19.4             18.5   \n",
       "4     40.04          1.970                     19.6             18.1   \n",
       "5     39.06          1.885                     20.0             17.5   \n",
       "6     38.10          1.800                     20.3             17.2   \n",
       "7     37.18          1.713                     20.1             16.8   \n",
       "8     36.05          1.627                     20.4             16.5   \n",
       "9     35.50          1.540                     21.3             16.2   \n",
       "10    35.10          1.450                     21.5             16.2   \n",
       "11    34.50          1.370                     21.7             15.9   \n",
       "12    34.01          1.280                     22.0             15.7   \n",
       "13    33.60          1.197                     22.1             15.4   \n",
       "14    32.98          1.100                     22.4             15.2   \n",
       "15    32.00          1.024                     22.8             14.8   \n",
       "16    31.52          0.940                     23.0             14.2   \n",
       "17    31.04          0.850                     23.2             14.3   \n",
       "18    30.50          0.770                     23.4             13.5   \n",
       "19    30.03          0.680                     23.6             13.2   \n",
       "20    29.10          0.594                     23.9             13.2   \n",
       "21    28.02          0.508                     23.8             12.8   \n",
       "22    27.20          0.500                     24.0             12.6   \n",
       "\n",
       "    Water_inlet_rate(lph)  Extraction_ratio  Dew_point_effectiveness  \n",
       "0                    11.6              0.75                   0.7048  \n",
       "1                    11.6              0.73                   0.6902  \n",
       "2                    11.6              0.71                   0.6876  \n",
       "3                    11.6              0.71                   0.6847  \n",
       "4                    11.6              0.69                   0.6703  \n",
       "5                    11.6              0.67                   0.6776  \n",
       "6                    11.6              0.67                   0.6735  \n",
       "7                    11.6              0.65                   0.6687  \n",
       "8                    11.6              0.63                   0.6611  \n",
       "9                    11.6              0.61                   0.6576  \n",
       "10                   11.6              0.59                   0.6545  \n",
       "11                   11.6              0.57                   0.6492  \n",
       "12                   11.6              0.55                   0.6444  \n",
       "13                   11.6              0.53                   0.6400  \n",
       "14                   11.6              0.51                   0.6326  \n",
       "15                   11.6              0.48                   0.6188  \n",
       "16                   11.6              0.44                   0.6208  \n",
       "17                   11.6              0.41                   0.6021  \n",
       "18                   11.6              0.38                   0.5911  \n",
       "19                   11.6              0.36                   0.5804  \n",
       "20                   11.6              0.33                   0.5554  \n",
       "21                   11.6              0.31                   0.5265  \n",
       "22                   11.6              0.30                   0.4835  "
      ]
     },
     "execution_count": 3,
     "metadata": {},
     "output_type": "execute_result"
    }
   ],
   "source": [
    "Project.head(23)"
   ]
  },
  {
   "cell_type": "code",
   "execution_count": 4,
   "metadata": {},
   "outputs": [
    {
     "name": "stdout",
     "output_type": "stream",
     "text": [
      "<class 'pandas.core.frame.DataFrame'>\n",
      "RangeIndex: 23 entries, 0 to 22\n",
      "Data columns (total 7 columns):\n",
      " #   Column                   Non-Null Count  Dtype  \n",
      "---  ------                   --------------  -----  \n",
      " 0   T_INPUT                  23 non-null     float64\n",
      " 1   Air_Flow_Rate            23 non-null     float64\n",
      " 2   Specific_Humidity(g/kg)  23 non-null     float64\n",
      " 3   Water_flow_Temp          23 non-null     float64\n",
      " 4   Water_inlet_rate(lph)    23 non-null     float64\n",
      " 5   Extraction_ratio         23 non-null     float64\n",
      " 6   Dew_point_effectiveness  23 non-null     float64\n",
      "dtypes: float64(7)\n",
      "memory usage: 1.4 KB\n"
     ]
    }
   ],
   "source": [
    "Project.info()"
   ]
  },
  {
   "cell_type": "code",
   "execution_count": 5,
   "metadata": {},
   "outputs": [
    {
     "data": {
      "text/html": [
       "<div>\n",
       "<style scoped>\n",
       "    .dataframe tbody tr th:only-of-type {\n",
       "        vertical-align: middle;\n",
       "    }\n",
       "\n",
       "    .dataframe tbody tr th {\n",
       "        vertical-align: top;\n",
       "    }\n",
       "\n",
       "    .dataframe thead th {\n",
       "        text-align: right;\n",
       "    }\n",
       "</style>\n",
       "<table border=\"1\" class=\"dataframe\">\n",
       "  <thead>\n",
       "    <tr style=\"text-align: right;\">\n",
       "      <th></th>\n",
       "      <th>T_INPUT</th>\n",
       "      <th>Air_Flow_Rate</th>\n",
       "      <th>Specific_Humidity(g/kg)</th>\n",
       "      <th>Water_flow_Temp</th>\n",
       "      <th>Water_inlet_rate(lph)</th>\n",
       "      <th>Extraction_ratio</th>\n",
       "      <th>Dew_point_effectiveness</th>\n",
       "    </tr>\n",
       "  </thead>\n",
       "  <tbody>\n",
       "    <tr>\n",
       "      <th>count</th>\n",
       "      <td>23.000000</td>\n",
       "      <td>23.000000</td>\n",
       "      <td>23.000000</td>\n",
       "      <td>23.000000</td>\n",
       "      <td>2.300000e+01</td>\n",
       "      <td>23.000000</td>\n",
       "      <td>23.000000</td>\n",
       "    </tr>\n",
       "    <tr>\n",
       "      <th>mean</th>\n",
       "      <td>35.074348</td>\n",
       "      <td>1.369043</td>\n",
       "      <td>21.482609</td>\n",
       "      <td>15.904348</td>\n",
       "      <td>1.160000e+01</td>\n",
       "      <td>0.546957</td>\n",
       "      <td>0.633713</td>\n",
       "    </tr>\n",
       "    <tr>\n",
       "      <th>std</th>\n",
       "      <td>4.951760</td>\n",
       "      <td>0.574550</td>\n",
       "      <td>1.850467</td>\n",
       "      <td>2.142742</td>\n",
       "      <td>3.632560e-15</td>\n",
       "      <td>0.145522</td>\n",
       "      <td>0.055680</td>\n",
       "    </tr>\n",
       "    <tr>\n",
       "      <th>min</th>\n",
       "      <td>27.200000</td>\n",
       "      <td>0.500000</td>\n",
       "      <td>18.100000</td>\n",
       "      <td>12.600000</td>\n",
       "      <td>1.160000e+01</td>\n",
       "      <td>0.300000</td>\n",
       "      <td>0.483500</td>\n",
       "    </tr>\n",
       "    <tr>\n",
       "      <th>25%</th>\n",
       "      <td>31.280000</td>\n",
       "      <td>0.895000</td>\n",
       "      <td>20.050000</td>\n",
       "      <td>14.250000</td>\n",
       "      <td>1.160000e+01</td>\n",
       "      <td>0.425000</td>\n",
       "      <td>0.610450</td>\n",
       "    </tr>\n",
       "    <tr>\n",
       "      <th>50%</th>\n",
       "      <td>34.500000</td>\n",
       "      <td>1.370000</td>\n",
       "      <td>21.700000</td>\n",
       "      <td>15.900000</td>\n",
       "      <td>1.160000e+01</td>\n",
       "      <td>0.570000</td>\n",
       "      <td>0.649200</td>\n",
       "    </tr>\n",
       "    <tr>\n",
       "      <th>75%</th>\n",
       "      <td>38.580000</td>\n",
       "      <td>1.842500</td>\n",
       "      <td>23.100000</td>\n",
       "      <td>17.350000</td>\n",
       "      <td>1.160000e+01</td>\n",
       "      <td>0.670000</td>\n",
       "      <td>0.671900</td>\n",
       "    </tr>\n",
       "    <tr>\n",
       "      <th>max</th>\n",
       "      <td>44.240000</td>\n",
       "      <td>2.300000</td>\n",
       "      <td>24.000000</td>\n",
       "      <td>19.500000</td>\n",
       "      <td>1.160000e+01</td>\n",
       "      <td>0.750000</td>\n",
       "      <td>0.704800</td>\n",
       "    </tr>\n",
       "  </tbody>\n",
       "</table>\n",
       "</div>"
      ],
      "text/plain": [
       "         T_INPUT  Air_Flow_Rate  Specific_Humidity(g/kg)  Water_flow_Temp  \\\n",
       "count  23.000000      23.000000                23.000000        23.000000   \n",
       "mean   35.074348       1.369043                21.482609        15.904348   \n",
       "std     4.951760       0.574550                 1.850467         2.142742   \n",
       "min    27.200000       0.500000                18.100000        12.600000   \n",
       "25%    31.280000       0.895000                20.050000        14.250000   \n",
       "50%    34.500000       1.370000                21.700000        15.900000   \n",
       "75%    38.580000       1.842500                23.100000        17.350000   \n",
       "max    44.240000       2.300000                24.000000        19.500000   \n",
       "\n",
       "       Water_inlet_rate(lph)  Extraction_ratio  Dew_point_effectiveness  \n",
       "count           2.300000e+01         23.000000                23.000000  \n",
       "mean            1.160000e+01          0.546957                 0.633713  \n",
       "std             3.632560e-15          0.145522                 0.055680  \n",
       "min             1.160000e+01          0.300000                 0.483500  \n",
       "25%             1.160000e+01          0.425000                 0.610450  \n",
       "50%             1.160000e+01          0.570000                 0.649200  \n",
       "75%             1.160000e+01          0.670000                 0.671900  \n",
       "max             1.160000e+01          0.750000                 0.704800  "
      ]
     },
     "execution_count": 5,
     "metadata": {},
     "output_type": "execute_result"
    }
   ],
   "source": [
    "Project.describe()"
   ]
  },
  {
   "cell_type": "markdown",
   "metadata": {},
   "source": [
    "## Data Visualisation"
   ]
  },
  {
   "cell_type": "code",
   "execution_count": 6,
   "metadata": {},
   "outputs": [
    {
     "data": {
      "image/png": "[encoded data removed]",
      "text/plain": [
       "<Figure size 432x288 with 1 Axes>"
      ]
     },
     "metadata": {
      "needs_background": "light"
     },
     "output_type": "display_data"
    }
   ],
   "source": [
    "sns.scatterplot(\"T_INPUT\",\"Dew_point_effectiveness\",data=Project);"
   ]
  },
  {
   "cell_type": "code",
   "execution_count": 48,
   "metadata": {},
   "outputs": [
    {
     "data": {
      "image/png": "[encoded data removed]",
      "text/plain": [
       "<Figure size 432x288 with 1 Axes>"
      ]
     },
     "metadata": {
      "needs_background": "light"
     },
     "output_type": "display_data"
    }
   ],
   "source": [
    "sns.regplot(\"T_INPUT\",\"Dew_point_effectiveness\",data=Project,order=3);"
   ]
  },
  {
   "cell_type": "code",
   "execution_count": 7,
   "metadata": {},
   "outputs": [
    {
     "data": {
      "image/png": "[encoded data removed]",
      "text/plain": [
       "<Figure size 432x288 with 1 Axes>"
      ]
     },
     "metadata": {
      "needs_background": "light"
     },
     "output_type": "display_data"
    }
   ],
   "source": [
    "sns.regplot(\"Air_Flow_Rate\",\"Dew_point_effectiveness\",data=Project,order=3);"
   ]
  },
  {
   "cell_type": "code",
   "execution_count": 54,
   "metadata": {},
   "outputs": [
    {
     "data": {
      "image/png": "[encoded data removed]",
      "text/plain": [
       "<Figure size 432x288 with 1 Axes>"
      ]
     },
     "metadata": {
      "needs_background": "light"
     },
     "output_type": "display_data"
    }
   ],
   "source": [
    "sns.regplot(\"Specific_Humidity(g/kg)\",\"Dew_point_effectiveness\",data=Project,order=3);"
   ]
  },
  {
   "cell_type": "code",
   "execution_count": 52,
   "metadata": {},
   "outputs": [
    {
     "data": {
      "image/png": "[encoded data removed]",
      "text/plain": [
       "<Figure size 432x288 with 1 Axes>"
      ]
     },
     "metadata": {
      "needs_background": "light"
     },
     "output_type": "display_data"
    }
   ],
   "source": [
    "sns.regplot(\"Water_flow_Temp\",\"Dew_point_effectiveness\",data=Project,order=3);"
   ]
  },
  {
   "cell_type": "code",
   "execution_count": 12,
   "metadata": {},
   "outputs": [
    {
     "data": {
      "image/png": "[encoded data removed]",
      "text/plain": [
       "<Figure size 432x288 with 1 Axes>"
      ]
     },
     "metadata": {
      "needs_background": "light"
     },
     "output_type": "display_data"
    }
   ],
   "source": [
    "sns.regplot(\"Extraction_ratio\",\"Dew_point_effectiveness\",data=Project,order=3);"
   ]
  },
  {
   "cell_type": "code",
   "execution_count": 13,
   "metadata": {},
   "outputs": [
    {
     "data": {
      "image/png": "[encoded data removed]",
      "text/plain": [
       "<Figure size 1260x1260 with 56 Axes>"
      ]
     },
     "metadata": {
      "needs_background": "light"
     },
     "output_type": "display_data"
    }
   ],
   "source": [
    "sns.pairplot(Project);"
   ]
  },
  {
   "cell_type": "markdown",
   "metadata": {},
   "source": [
    "### Data Preprocessing"
   ]
  },
  {
   "cell_type": "code",
   "execution_count": 14,
   "metadata": {},
   "outputs": [],
   "source": [
    "Input = Project.drop(columns=[\"Dew_point_effectiveness\"])\n",
    "# taking T_OUTPUT as output column,which have to measure based on the input variable"
   ]
  },
  {
   "cell_type": "code",
   "execution_count": 15,
   "metadata": {},
   "outputs": [
    {
     "data": {
      "text/plain": [
       "(23, 6)"
      ]
     },
     "execution_count": 15,
     "metadata": {},
     "output_type": "execute_result"
    }
   ],
   "source": [
    "Input.shape"
   ]
  },
  {
   "cell_type": "code",
   "execution_count": 16,
   "metadata": {},
   "outputs": [],
   "source": [
    "Output = Project[[\"Dew_point_effectiveness\"]]"
   ]
  },
  {
   "cell_type": "code",
   "execution_count": 17,
   "metadata": {},
   "outputs": [
    {
     "data": {
      "text/plain": [
       "(23, 1)"
      ]
     },
     "execution_count": 17,
     "metadata": {},
     "output_type": "execute_result"
    }
   ],
   "source": [
    "Output.shape"
   ]
  },
  {
   "cell_type": "code",
   "execution_count": 18,
   "metadata": {},
   "outputs": [],
   "source": [
    "from sklearn.preprocessing import StandardScaler"
   ]
  },
  {
   "cell_type": "code",
   "execution_count": 19,
   "metadata": {},
   "outputs": [],
   "source": [
    "sc = StandardScaler()"
   ]
  },
  {
   "cell_type": "code",
   "execution_count": 20,
   "metadata": {},
   "outputs": [],
   "source": [
    "sc_ = sc.fit_transform(Input)"
   ]
  },
  {
   "cell_type": "code",
   "execution_count": 21,
   "metadata": {},
   "outputs": [],
   "source": [
    "Scaled_project = pd.DataFrame(sc_,columns=['T_INPUT','Air_Flow_Rate','Specific_Humidity','Water_flow_Temp','water_F.R(lph)',\n",
    "                                'Extraction_ratio'])"
   ]
  },
  {
   "cell_type": "code",
   "execution_count": 22,
   "metadata": {},
   "outputs": [
    {
     "data": {
      "text/html": [
       "<div>\n",
       "<style scoped>\n",
       "    .dataframe tbody tr th:only-of-type {\n",
       "        vertical-align: middle;\n",
       "    }\n",
       "\n",
       "    .dataframe tbody tr th {\n",
       "        vertical-align: top;\n",
       "    }\n",
       "\n",
       "    .dataframe thead th {\n",
       "        text-align: right;\n",
       "    }\n",
       "</style>\n",
       "<table border=\"1\" class=\"dataframe\">\n",
       "  <thead>\n",
       "    <tr style=\"text-align: right;\">\n",
       "      <th></th>\n",
       "      <th>T_INPUT</th>\n",
       "      <th>Air_Flow_Rate</th>\n",
       "      <th>Specific_Humidity</th>\n",
       "      <th>Water_flow_Temp</th>\n",
       "      <th>water_F.R(lph)</th>\n",
       "      <th>Extraction_ratio</th>\n",
       "    </tr>\n",
       "  </thead>\n",
       "  <tbody>\n",
       "    <tr>\n",
       "      <th>0</th>\n",
       "      <td>1.892589</td>\n",
       "      <td>1.656739</td>\n",
       "      <td>-1.869059</td>\n",
       "      <td>1.715775</td>\n",
       "      <td>1.0</td>\n",
       "      <td>1.426634</td>\n",
       "    </tr>\n",
       "    <tr>\n",
       "      <th>1</th>\n",
       "      <td>1.739789</td>\n",
       "      <td>1.478778</td>\n",
       "      <td>-1.648039</td>\n",
       "      <td>1.715775</td>\n",
       "      <td>1.0</td>\n",
       "      <td>1.286109</td>\n",
       "    </tr>\n",
       "    <tr>\n",
       "      <th>2</th>\n",
       "      <td>1.487874</td>\n",
       "      <td>1.372002</td>\n",
       "      <td>-1.371764</td>\n",
       "      <td>1.477185</td>\n",
       "      <td>1.0</td>\n",
       "      <td>1.145584</td>\n",
       "    </tr>\n",
       "    <tr>\n",
       "      <th>3</th>\n",
       "      <td>1.256609</td>\n",
       "      <td>1.211837</td>\n",
       "      <td>-1.150744</td>\n",
       "      <td>1.238595</td>\n",
       "      <td>1.0</td>\n",
       "      <td>1.145584</td>\n",
       "    </tr>\n",
       "    <tr>\n",
       "      <th>4</th>\n",
       "      <td>1.025343</td>\n",
       "      <td>1.069468</td>\n",
       "      <td>-1.040234</td>\n",
       "      <td>1.047722</td>\n",
       "      <td>1.0</td>\n",
       "      <td>1.005059</td>\n",
       "    </tr>\n",
       "    <tr>\n",
       "      <th>5</th>\n",
       "      <td>0.822986</td>\n",
       "      <td>0.918201</td>\n",
       "      <td>-0.819215</td>\n",
       "      <td>0.761414</td>\n",
       "      <td>1.0</td>\n",
       "      <td>0.864534</td>\n",
       "    </tr>\n",
       "    <tr>\n",
       "      <th>6</th>\n",
       "      <td>0.624758</td>\n",
       "      <td>0.766935</td>\n",
       "      <td>-0.653450</td>\n",
       "      <td>0.618260</td>\n",
       "      <td>1.0</td>\n",
       "      <td>0.864534</td>\n",
       "    </tr>\n",
       "    <tr>\n",
       "      <th>7</th>\n",
       "      <td>0.434790</td>\n",
       "      <td>0.612108</td>\n",
       "      <td>-0.763960</td>\n",
       "      <td>0.427388</td>\n",
       "      <td>1.0</td>\n",
       "      <td>0.724009</td>\n",
       "    </tr>\n",
       "    <tr>\n",
       "      <th>8</th>\n",
       "      <td>0.201460</td>\n",
       "      <td>0.459062</td>\n",
       "      <td>-0.598195</td>\n",
       "      <td>0.284234</td>\n",
       "      <td>1.0</td>\n",
       "      <td>0.583484</td>\n",
       "    </tr>\n",
       "    <tr>\n",
       "      <th>9</th>\n",
       "      <td>0.087892</td>\n",
       "      <td>0.304236</td>\n",
       "      <td>-0.100900</td>\n",
       "      <td>0.141079</td>\n",
       "      <td>1.0</td>\n",
       "      <td>0.442959</td>\n",
       "    </tr>\n",
       "    <tr>\n",
       "      <th>10</th>\n",
       "      <td>0.005297</td>\n",
       "      <td>0.144071</td>\n",
       "      <td>0.009610</td>\n",
       "      <td>0.141079</td>\n",
       "      <td>1.0</td>\n",
       "      <td>0.302434</td>\n",
       "    </tr>\n",
       "    <tr>\n",
       "      <th>11</th>\n",
       "      <td>-0.118595</td>\n",
       "      <td>0.001702</td>\n",
       "      <td>0.120119</td>\n",
       "      <td>-0.002075</td>\n",
       "      <td>1.0</td>\n",
       "      <td>0.161909</td>\n",
       "    </tr>\n",
       "    <tr>\n",
       "      <th>12</th>\n",
       "      <td>-0.219774</td>\n",
       "      <td>-0.158463</td>\n",
       "      <td>0.285884</td>\n",
       "      <td>-0.097511</td>\n",
       "      <td>1.0</td>\n",
       "      <td>0.021384</td>\n",
       "    </tr>\n",
       "    <tr>\n",
       "      <th>13</th>\n",
       "      <td>-0.304434</td>\n",
       "      <td>-0.306170</td>\n",
       "      <td>0.341139</td>\n",
       "      <td>-0.240665</td>\n",
       "      <td>1.0</td>\n",
       "      <td>-0.119141</td>\n",
       "    </tr>\n",
       "    <tr>\n",
       "      <th>14</th>\n",
       "      <td>-0.432456</td>\n",
       "      <td>-0.478792</td>\n",
       "      <td>0.506904</td>\n",
       "      <td>-0.336101</td>\n",
       "      <td>1.0</td>\n",
       "      <td>-0.259666</td>\n",
       "    </tr>\n",
       "    <tr>\n",
       "      <th>15</th>\n",
       "      <td>-0.634813</td>\n",
       "      <td>-0.614043</td>\n",
       "      <td>0.727924</td>\n",
       "      <td>-0.526973</td>\n",
       "      <td>1.0</td>\n",
       "      <td>-0.470453</td>\n",
       "    </tr>\n",
       "    <tr>\n",
       "      <th>16</th>\n",
       "      <td>-0.733927</td>\n",
       "      <td>-0.763530</td>\n",
       "      <td>0.838434</td>\n",
       "      <td>-0.813282</td>\n",
       "      <td>1.0</td>\n",
       "      <td>-0.751503</td>\n",
       "    </tr>\n",
       "    <tr>\n",
       "      <th>17</th>\n",
       "      <td>-0.833041</td>\n",
       "      <td>-0.923695</td>\n",
       "      <td>0.948944</td>\n",
       "      <td>-0.765563</td>\n",
       "      <td>1.0</td>\n",
       "      <td>-0.962291</td>\n",
       "    </tr>\n",
       "    <tr>\n",
       "      <th>18</th>\n",
       "      <td>-0.944544</td>\n",
       "      <td>-1.066064</td>\n",
       "      <td>1.059454</td>\n",
       "      <td>-1.147308</td>\n",
       "      <td>1.0</td>\n",
       "      <td>-1.173078</td>\n",
       "    </tr>\n",
       "    <tr>\n",
       "      <th>19</th>\n",
       "      <td>-1.041593</td>\n",
       "      <td>-1.226229</td>\n",
       "      <td>1.169963</td>\n",
       "      <td>-1.290462</td>\n",
       "      <td>1.0</td>\n",
       "      <td>-1.313603</td>\n",
       "    </tr>\n",
       "    <tr>\n",
       "      <th>20</th>\n",
       "      <td>-1.233626</td>\n",
       "      <td>-1.379275</td>\n",
       "      <td>1.335728</td>\n",
       "      <td>-1.290462</td>\n",
       "      <td>1.0</td>\n",
       "      <td>-1.524391</td>\n",
       "    </tr>\n",
       "    <tr>\n",
       "      <th>21</th>\n",
       "      <td>-1.456632</td>\n",
       "      <td>-1.532322</td>\n",
       "      <td>1.280473</td>\n",
       "      <td>-1.481334</td>\n",
       "      <td>1.0</td>\n",
       "      <td>-1.664916</td>\n",
       "    </tr>\n",
       "    <tr>\n",
       "      <th>22</th>\n",
       "      <td>-1.625952</td>\n",
       "      <td>-1.546558</td>\n",
       "      <td>1.390983</td>\n",
       "      <td>-1.576770</td>\n",
       "      <td>1.0</td>\n",
       "      <td>-1.735178</td>\n",
       "    </tr>\n",
       "  </tbody>\n",
       "</table>\n",
       "</div>"
      ],
      "text/plain": [
       "     T_INPUT  Air_Flow_Rate  Specific_Humidity  Water_flow_Temp  \\\n",
       "0   1.892589       1.656739          -1.869059         1.715775   \n",
       "1   1.739789       1.478778          -1.648039         1.715775   \n",
       "2   1.487874       1.372002          -1.371764         1.477185   \n",
       "3   1.256609       1.211837          -1.150744         1.238595   \n",
       "4   1.025343       1.069468          -1.040234         1.047722   \n",
       "5   0.822986       0.918201          -0.819215         0.761414   \n",
       "6   0.624758       0.766935          -0.653450         0.618260   \n",
       "7   0.434790       0.612108          -0.763960         0.427388   \n",
       "8   0.201460       0.459062          -0.598195         0.284234   \n",
       "9   0.087892       0.304236          -0.100900         0.141079   \n",
       "10  0.005297       0.144071           0.009610         0.141079   \n",
       "11 -0.118595       0.001702           0.120119        -0.002075   \n",
       "12 -0.219774      -0.158463           0.285884        -0.097511   \n",
       "13 -0.304434      -0.306170           0.341139        -0.240665   \n",
       "14 -0.432456      -0.478792           0.506904        -0.336101   \n",
       "15 -0.634813      -0.614043           0.727924        -0.526973   \n",
       "16 -0.733927      -0.763530           0.838434        -0.813282   \n",
       "17 -0.833041      -0.923695           0.948944        -0.765563   \n",
       "18 -0.944544      -1.066064           1.059454        -1.147308   \n",
       "19 -1.041593      -1.226229           1.169963        -1.290462   \n",
       "20 -1.233626      -1.379275           1.335728        -1.290462   \n",
       "21 -1.456632      -1.532322           1.280473        -1.481334   \n",
       "22 -1.625952      -1.546558           1.390983        -1.576770   \n",
       "\n",
       "    water_F.R(lph)  Extraction_ratio  \n",
       "0              1.0          1.426634  \n",
       "1              1.0          1.286109  \n",
       "2              1.0          1.145584  \n",
       "3              1.0          1.145584  \n",
       "4              1.0          1.005059  \n",
       "5              1.0          0.864534  \n",
       "6              1.0          0.864534  \n",
       "7              1.0          0.724009  \n",
       "8              1.0          0.583484  \n",
       "9              1.0          0.442959  \n",
       "10             1.0          0.302434  \n",
       "11             1.0          0.161909  \n",
       "12             1.0          0.021384  \n",
       "13             1.0         -0.119141  \n",
       "14             1.0         -0.259666  \n",
       "15             1.0         -0.470453  \n",
       "16             1.0         -0.751503  \n",
       "17             1.0         -0.962291  \n",
       "18             1.0         -1.173078  \n",
       "19             1.0         -1.313603  \n",
       "20             1.0         -1.524391  \n",
       "21             1.0         -1.664916  \n",
       "22             1.0         -1.735178  "
      ]
     },
     "execution_count": 22,
     "metadata": {},
     "output_type": "execute_result"
    }
   ],
   "source": [
    "Scaled_project.head(23)"
   ]
  },
  {
   "cell_type": "markdown",
   "metadata": {},
   "source": [
    "### Modelling"
   ]
  },
  {
   "cell_type": "code",
   "execution_count": 23,
   "metadata": {},
   "outputs": [],
   "source": [
    "from sklearn.model_selection import train_test_split\n",
    "X_train, X_test, Y_train, Y_test = train_test_split(sc_,Output, test_size=0.2, random_state=0)\n",
    "# we take 20% of our data for the test purpose to check how accurate our model is\n",
    "# first it train on the training data then after trainig we can check for the new data"
   ]
  },
  {
   "cell_type": "code",
   "execution_count": 24,
   "metadata": {},
   "outputs": [
    {
     "data": {
      "text/plain": [
       "(18, 6)"
      ]
     },
     "execution_count": 24,
     "metadata": {},
     "output_type": "execute_result"
    }
   ],
   "source": [
    "X_train.shape"
   ]
  },
  {
   "cell_type": "code",
   "execution_count": 25,
   "metadata": {},
   "outputs": [
    {
     "data": {
      "text/plain": [
       "(5, 6)"
      ]
     },
     "execution_count": 25,
     "metadata": {},
     "output_type": "execute_result"
    }
   ],
   "source": [
    "X_test.shape"
   ]
  },
  {
   "cell_type": "code",
   "execution_count": 26,
   "metadata": {},
   "outputs": [
    {
     "data": {
      "text/plain": [
       "(18, 1)"
      ]
     },
     "execution_count": 26,
     "metadata": {},
     "output_type": "execute_result"
    }
   ],
   "source": [
    "Y_train.shape"
   ]
  },
  {
   "cell_type": "code",
   "execution_count": 27,
   "metadata": {},
   "outputs": [
    {
     "data": {
      "text/plain": [
       "(5, 1)"
      ]
     },
     "execution_count": 27,
     "metadata": {},
     "output_type": "execute_result"
    }
   ],
   "source": [
    "Y_test.shape"
   ]
  },
  {
   "cell_type": "code",
   "execution_count": 28,
   "metadata": {},
   "outputs": [
    {
     "data": {
      "text/html": [
       "<div>\n",
       "<style scoped>\n",
       "    .dataframe tbody tr th:only-of-type {\n",
       "        vertical-align: middle;\n",
       "    }\n",
       "\n",
       "    .dataframe tbody tr th {\n",
       "        vertical-align: top;\n",
       "    }\n",
       "\n",
       "    .dataframe thead th {\n",
       "        text-align: right;\n",
       "    }\n",
       "</style>\n",
       "<table border=\"1\" class=\"dataframe\">\n",
       "  <thead>\n",
       "    <tr style=\"text-align: right;\">\n",
       "      <th></th>\n",
       "      <th>Dew_point_effectiveness</th>\n",
       "    </tr>\n",
       "  </thead>\n",
       "  <tbody>\n",
       "    <tr>\n",
       "      <th>11</th>\n",
       "      <td>0.6492</td>\n",
       "    </tr>\n",
       "    <tr>\n",
       "      <th>10</th>\n",
       "      <td>0.6545</td>\n",
       "    </tr>\n",
       "    <tr>\n",
       "      <th>21</th>\n",
       "      <td>0.5265</td>\n",
       "    </tr>\n",
       "    <tr>\n",
       "      <th>14</th>\n",
       "      <td>0.6326</td>\n",
       "    </tr>\n",
       "    <tr>\n",
       "      <th>20</th>\n",
       "      <td>0.5554</td>\n",
       "    </tr>\n",
       "  </tbody>\n",
       "</table>\n",
       "</div>"
      ],
      "text/plain": [
       "    Dew_point_effectiveness\n",
       "11                   0.6492\n",
       "10                   0.6545\n",
       "21                   0.5265\n",
       "14                   0.6326\n",
       "20                   0.5554"
      ]
     },
     "execution_count": 28,
     "metadata": {},
     "output_type": "execute_result"
    }
   ],
   "source": [
    "Y_test"
   ]
  },
  {
   "cell_type": "code",
   "execution_count": 29,
   "metadata": {},
   "outputs": [],
   "source": [
    "from sklearn.linear_model import LinearRegression"
   ]
  },
  {
   "cell_type": "code",
   "execution_count": 30,
   "metadata": {},
   "outputs": [],
   "source": [
    "reg = LinearRegression()"
   ]
  },
  {
   "cell_type": "code",
   "execution_count": 31,
   "metadata": {},
   "outputs": [
    {
     "data": {
      "text/plain": [
       "LinearRegression()"
      ]
     },
     "execution_count": 31,
     "metadata": {},
     "output_type": "execute_result"
    }
   ],
   "source": [
    "reg.fit(X_train,Y_train)"
   ]
  },
  {
   "cell_type": "code",
   "execution_count": 32,
   "metadata": {},
   "outputs": [
    {
     "name": "stdout",
     "output_type": "stream",
     "text": [
      "Training Score : 0.965004694268994\n",
      "Testing Score. : 0.9844515542726957\n"
     ]
    }
   ],
   "source": [
    "print('Training Score :', reg.score(X_train, Y_train))\n",
    "print('Testing Score. :', reg.score(X_test, Y_test))\n",
    "## its a quite good score but but we see that our data follow some polynomial type of trend so we have to check for other also"
   ]
  },
  {
   "cell_type": "markdown",
   "metadata": {},
   "source": [
    "## Predicting the value from test"
   ]
  },
  {
   "cell_type": "code",
   "execution_count": 33,
   "metadata": {},
   "outputs": [
    {
     "data": {
      "text/plain": [
       "array([-0.11859544,  0.00170224,  0.12011945, -0.0020747 ,  1.        ,\n",
       "        0.16190926])"
      ]
     },
     "execution_count": 33,
     "metadata": {},
     "output_type": "execute_result"
    }
   ],
   "source": [
    "X_test[0,:]"
   ]
  },
  {
   "cell_type": "code",
   "execution_count": 34,
   "metadata": {},
   "outputs": [
    {
     "data": {
      "text/plain": [
       "array([[0.64815178]])"
      ]
     },
     "execution_count": 34,
     "metadata": {},
     "output_type": "execute_result"
    }
   ],
   "source": [
    "reg.predict([X_test[0,:]])"
   ]
  },
  {
   "cell_type": "code",
   "execution_count": 35,
   "metadata": {},
   "outputs": [
    {
     "data": {
      "text/plain": [
       "array([[0.64815178],\n",
       "       [0.65338753],\n",
       "       [0.52768414],\n",
       "       [0.64625581],\n",
       "       [0.55049904]])"
      ]
     },
     "execution_count": 35,
     "metadata": {},
     "output_type": "execute_result"
    }
   ],
   "source": [
    "y_pred = reg.predict(X_test)\n",
    "y_pred"
   ]
  },
  {
   "cell_type": "code",
   "execution_count": 36,
   "metadata": {},
   "outputs": [
    {
     "data": {
      "text/html": [
       "<div>\n",
       "<style scoped>\n",
       "    .dataframe tbody tr th:only-of-type {\n",
       "        vertical-align: middle;\n",
       "    }\n",
       "\n",
       "    .dataframe tbody tr th {\n",
       "        vertical-align: top;\n",
       "    }\n",
       "\n",
       "    .dataframe thead th {\n",
       "        text-align: right;\n",
       "    }\n",
       "</style>\n",
       "<table border=\"1\" class=\"dataframe\">\n",
       "  <thead>\n",
       "    <tr style=\"text-align: right;\">\n",
       "      <th></th>\n",
       "      <th>Dew_point_effectiveness</th>\n",
       "    </tr>\n",
       "  </thead>\n",
       "  <tbody>\n",
       "    <tr>\n",
       "      <th>11</th>\n",
       "      <td>0.6492</td>\n",
       "    </tr>\n",
       "    <tr>\n",
       "      <th>10</th>\n",
       "      <td>0.6545</td>\n",
       "    </tr>\n",
       "    <tr>\n",
       "      <th>21</th>\n",
       "      <td>0.5265</td>\n",
       "    </tr>\n",
       "    <tr>\n",
       "      <th>14</th>\n",
       "      <td>0.6326</td>\n",
       "    </tr>\n",
       "    <tr>\n",
       "      <th>20</th>\n",
       "      <td>0.5554</td>\n",
       "    </tr>\n",
       "  </tbody>\n",
       "</table>\n",
       "</div>"
      ],
      "text/plain": [
       "    Dew_point_effectiveness\n",
       "11                   0.6492\n",
       "10                   0.6545\n",
       "21                   0.5265\n",
       "14                   0.6326\n",
       "20                   0.5554"
      ]
     },
     "execution_count": 36,
     "metadata": {},
     "output_type": "execute_result"
    }
   ],
   "source": [
    "Y_test"
   ]
  },
  {
   "cell_type": "code",
   "execution_count": 37,
   "metadata": {},
   "outputs": [],
   "source": [
    "from sklearn.metrics import mean_squared_error"
   ]
  },
  {
   "cell_type": "code",
   "execution_count": 38,
   "metadata": {},
   "outputs": [],
   "source": [
    "mse = mean_squared_error(Y_test,y_pred)\n",
    "rmse =np.sqrt(mse)"
   ]
  },
  {
   "cell_type": "code",
   "execution_count": 39,
   "metadata": {},
   "outputs": [
    {
     "name": "stdout",
     "output_type": "stream",
     "text": [
      "mse 4.284782211374575e-05\n",
      "rmse 0.006545824784833898\n"
     ]
    }
   ],
   "source": [
    "print(\"mse\",mse)\n",
    "print(\"rmse\",rmse)"
   ]
  },
  {
   "cell_type": "markdown",
   "metadata": {},
   "source": [
    "### Polynomial model\n",
    "as we have seen from data visualisation that our model best fit for 2nd degree,so lets check with one higher degree"
   ]
  },
  {
   "cell_type": "code",
   "execution_count": 40,
   "metadata": {},
   "outputs": [],
   "source": [
    "from sklearn.preprocessing import PolynomialFeatures"
   ]
  },
  {
   "cell_type": "code",
   "execution_count": 41,
   "metadata": {},
   "outputs": [],
   "source": [
    "poly = PolynomialFeatures(2)"
   ]
  },
  {
   "cell_type": "code",
   "execution_count": 42,
   "metadata": {},
   "outputs": [
    {
     "data": {
      "text/plain": [
       "array([[1.0000000e+00, 4.4240000e+01, 2.3000000e+00, 1.8100000e+01,\n",
       "        1.9500000e+01, 1.1600000e+01, 7.5000000e-01, 1.9571776e+03,\n",
       "        1.0175200e+02, 8.0074400e+02, 8.6268000e+02, 5.1318400e+02,\n",
       "        3.3180000e+01, 5.2900000e+00, 4.1630000e+01, 4.4850000e+01,\n",
       "        2.6680000e+01, 1.7250000e+00, 3.2761000e+02, 3.5295000e+02,\n",
       "        2.0996000e+02, 1.3575000e+01, 3.8025000e+02, 2.2620000e+02,\n",
       "        1.4625000e+01, 1.3456000e+02, 8.7000000e+00, 5.6250000e-01],\n",
       "       [1.0000000e+00, 4.3500000e+01, 2.2000000e+00, 1.8500000e+01,\n",
       "        1.9500000e+01, 1.1600000e+01, 7.3000000e-01, 1.8922500e+03,\n",
       "        9.5700000e+01, 8.0475000e+02, 8.4825000e+02, 5.0460000e+02,\n",
       "        3.1755000e+01, 4.8400000e+00, 4.0700000e+01, 4.2900000e+01,\n",
       "        2.5520000e+01, 1.6060000e+00, 3.4225000e+02, 3.6075000e+02,\n",
       "        2.1460000e+02, 1.3505000e+01, 3.8025000e+02, 2.2620000e+02,\n",
       "        1.4235000e+01, 1.3456000e+02, 8.4680000e+00, 5.3290000e-01],\n",
       "       [1.0000000e+00, 4.2280000e+01, 2.1400000e+00, 1.9000000e+01,\n",
       "        1.9000000e+01, 1.1600000e+01, 7.1000000e-01, 1.7875984e+03,\n",
       "        9.0479200e+01, 8.0332000e+02, 8.0332000e+02, 4.9044800e+02,\n",
       "        3.0018800e+01, 4.5796000e+00, 4.0660000e+01, 4.0660000e+01,\n",
       "        2.4824000e+01, 1.5194000e+00, 3.6100000e+02, 3.6100000e+02,\n",
       "        2.2040000e+02, 1.3490000e+01, 3.6100000e+02, 2.2040000e+02,\n",
       "        1.3490000e+01, 1.3456000e+02, 8.2360000e+00, 5.0410000e-01],\n",
       "       [1.0000000e+00, 4.1160000e+01, 2.0500000e+00, 1.9400000e+01,\n",
       "        1.8500000e+01, 1.1600000e+01, 7.1000000e-01, 1.6941456e+03,\n",
       "        8.4378000e+01, 7.9850400e+02, 7.6146000e+02, 4.7745600e+02,\n",
       "        2.9223600e+01, 4.2025000e+00, 3.9770000e+01, 3.7925000e+01,\n",
       "        2.3780000e+01, 1.4555000e+00, 3.7636000e+02, 3.5890000e+02,\n",
       "        2.2504000e+02, 1.3774000e+01, 3.4225000e+02, 2.1460000e+02,\n",
       "        1.3135000e+01, 1.3456000e+02, 8.2360000e+00, 5.0410000e-01],\n",
       "       [1.0000000e+00, 4.0040000e+01, 1.9700000e+00, 1.9600000e+01,\n",
       "        1.8100000e+01, 1.1600000e+01, 6.9000000e-01, 1.6032016e+03,\n",
       "        7.8878800e+01, 7.8478400e+02, 7.2472400e+02, 4.6446400e+02,\n",
       "        2.7627600e+01, 3.8809000e+00, 3.8612000e+01, 3.5657000e+01,\n",
       "        2.2852000e+01, 1.3593000e+00, 3.8416000e+02, 3.5476000e+02,\n",
       "        2.2736000e+02, 1.3524000e+01, 3.2761000e+02, 2.0996000e+02,\n",
       "        1.2489000e+01, 1.3456000e+02, 8.0040000e+00, 4.7610000e-01],\n",
       "       [1.0000000e+00, 3.9060000e+01, 1.8850000e+00, 2.0000000e+01,\n",
       "        1.7500000e+01, 1.1600000e+01, 6.7000000e-01, 1.5256836e+03,\n",
       "        7.3628100e+01, 7.8120000e+02, 6.8355000e+02, 4.5309600e+02,\n",
       "        2.6170200e+01, 3.5532250e+00, 3.7700000e+01, 3.2987500e+01,\n",
       "        2.1866000e+01, 1.2629500e+00, 4.0000000e+02, 3.5000000e+02,\n",
       "        2.3200000e+02, 1.3400000e+01, 3.0625000e+02, 2.0300000e+02,\n",
       "        1.1725000e+01, 1.3456000e+02, 7.7720000e+00, 4.4890000e-01],\n",
       "       [1.0000000e+00, 3.8100000e+01, 1.8000000e+00, 2.0300000e+01,\n",
       "        1.7200000e+01, 1.1600000e+01, 6.7000000e-01, 1.4516100e+03,\n",
       "        6.8580000e+01, 7.7343000e+02, 6.5532000e+02, 4.4196000e+02,\n",
       "        2.5527000e+01, 3.2400000e+00, 3.6540000e+01, 3.0960000e+01,\n",
       "        2.0880000e+01, 1.2060000e+00, 4.1209000e+02, 3.4916000e+02,\n",
       "        2.3548000e+02, 1.3601000e+01, 2.9584000e+02, 1.9952000e+02,\n",
       "        1.1524000e+01, 1.3456000e+02, 7.7720000e+00, 4.4890000e-01],\n",
       "       [1.0000000e+00, 3.7180000e+01, 1.7130000e+00, 2.0100000e+01,\n",
       "        1.6800000e+01, 1.1600000e+01, 6.5000000e-01, 1.3823524e+03,\n",
       "        6.3689340e+01, 7.4731800e+02, 6.2462400e+02, 4.3128800e+02,\n",
       "        2.4167000e+01, 2.9343690e+00, 3.4431300e+01, 2.8778400e+01,\n",
       "        1.9870800e+01, 1.1134500e+00, 4.0401000e+02, 3.3768000e+02,\n",
       "        2.3316000e+02, 1.3065000e+01, 2.8224000e+02, 1.9488000e+02,\n",
       "        1.0920000e+01, 1.3456000e+02, 7.5400000e+00, 4.2250000e-01],\n",
       "       [1.0000000e+00, 3.6050000e+01, 1.6270000e+00, 2.0400000e+01,\n",
       "        1.6500000e+01, 1.1600000e+01, 6.3000000e-01, 1.2996025e+03,\n",
       "        5.8653350e+01, 7.3542000e+02, 5.9482500e+02, 4.1818000e+02,\n",
       "        2.2711500e+01, 2.6471290e+00, 3.3190800e+01, 2.6845500e+01,\n",
       "        1.8873200e+01, 1.0250100e+00, 4.1616000e+02, 3.3660000e+02,\n",
       "        2.3664000e+02, 1.2852000e+01, 2.7225000e+02, 1.9140000e+02,\n",
       "        1.0395000e+01, 1.3456000e+02, 7.3080000e+00, 3.9690000e-01],\n",
       "       [1.0000000e+00, 3.5500000e+01, 1.5400000e+00, 2.1300000e+01,\n",
       "        1.6200000e+01, 1.1600000e+01, 6.1000000e-01, 1.2602500e+03,\n",
       "        5.4670000e+01, 7.5615000e+02, 5.7510000e+02, 4.1180000e+02,\n",
       "        2.1655000e+01, 2.3716000e+00, 3.2802000e+01, 2.4948000e+01,\n",
       "        1.7864000e+01, 9.3940000e-01, 4.5369000e+02, 3.4506000e+02,\n",
       "        2.4708000e+02, 1.2993000e+01, 2.6244000e+02, 1.8792000e+02,\n",
       "        9.8820000e+00, 1.3456000e+02, 7.0760000e+00, 3.7210000e-01],\n",
       "       [1.0000000e+00, 3.5100000e+01, 1.4500000e+00, 2.1500000e+01,\n",
       "        1.6200000e+01, 1.1600000e+01, 5.9000000e-01, 1.2320100e+03,\n",
       "        5.0895000e+01, 7.5465000e+02, 5.6862000e+02, 4.0716000e+02,\n",
       "        2.0709000e+01, 2.1025000e+00, 3.1175000e+01, 2.3490000e+01,\n",
       "        1.6820000e+01, 8.5550000e-01, 4.6225000e+02, 3.4830000e+02,\n",
       "        2.4940000e+02, 1.2685000e+01, 2.6244000e+02, 1.8792000e+02,\n",
       "        9.5580000e+00, 1.3456000e+02, 6.8440000e+00, 3.4810000e-01],\n",
       "       [1.0000000e+00, 3.4500000e+01, 1.3700000e+00, 2.1700000e+01,\n",
       "        1.5900000e+01, 1.1600000e+01, 5.7000000e-01, 1.1902500e+03,\n",
       "        4.7265000e+01, 7.4865000e+02, 5.4855000e+02, 4.0020000e+02,\n",
       "        1.9665000e+01, 1.8769000e+00, 2.9729000e+01, 2.1783000e+01,\n",
       "        1.5892000e+01, 7.8090000e-01, 4.7089000e+02, 3.4503000e+02,\n",
       "        2.5172000e+02, 1.2369000e+01, 2.5281000e+02, 1.8444000e+02,\n",
       "        9.0630000e+00, 1.3456000e+02, 6.6120000e+00, 3.2490000e-01],\n",
       "       [1.0000000e+00, 3.4010000e+01, 1.2800000e+00, 2.2000000e+01,\n",
       "        1.5700000e+01, 1.1600000e+01, 5.5000000e-01, 1.1566801e+03,\n",
       "        4.3532800e+01, 7.4822000e+02, 5.3395700e+02, 3.9451600e+02,\n",
       "        1.8705500e+01, 1.6384000e+00, 2.8160000e+01, 2.0096000e+01,\n",
       "        1.4848000e+01, 7.0400000e-01, 4.8400000e+02, 3.4540000e+02,\n",
       "        2.5520000e+02, 1.2100000e+01, 2.4649000e+02, 1.8212000e+02,\n",
       "        8.6350000e+00, 1.3456000e+02, 6.3800000e+00, 3.0250000e-01],\n",
       "       [1.0000000e+00, 3.3600000e+01, 1.1970000e+00, 2.2100000e+01,\n",
       "        1.5400000e+01, 1.1600000e+01, 5.3000000e-01, 1.1289600e+03,\n",
       "        4.0219200e+01, 7.4256000e+02, 5.1744000e+02, 3.8976000e+02,\n",
       "        1.7808000e+01, 1.4328090e+00, 2.6453700e+01, 1.8433800e+01,\n",
       "        1.3885200e+01, 6.3441000e-01, 4.8841000e+02, 3.4034000e+02,\n",
       "        2.5636000e+02, 1.1713000e+01, 2.3716000e+02, 1.7864000e+02,\n",
       "        8.1620000e+00, 1.3456000e+02, 6.1480000e+00, 2.8090000e-01],\n",
       "       [1.0000000e+00, 3.2980000e+01, 1.1000000e+00, 2.2400000e+01,\n",
       "        1.5200000e+01, 1.1600000e+01, 5.1000000e-01, 1.0876804e+03,\n",
       "        3.6278000e+01, 7.3875200e+02, 5.0129600e+02, 3.8256800e+02,\n",
       "        1.6819800e+01, 1.2100000e+00, 2.4640000e+01, 1.6720000e+01,\n",
       "        1.2760000e+01, 5.6100000e-01, 5.0176000e+02, 3.4048000e+02,\n",
       "        2.5984000e+02, 1.1424000e+01, 2.3104000e+02, 1.7632000e+02,\n",
       "        7.7520000e+00, 1.3456000e+02, 5.9160000e+00, 2.6010000e-01],\n",
       "       [1.0000000e+00, 3.2000000e+01, 1.0240000e+00, 2.2800000e+01,\n",
       "        1.4800000e+01, 1.1600000e+01, 4.8000000e-01, 1.0240000e+03,\n",
       "        3.2768000e+01, 7.2960000e+02, 4.7360000e+02, 3.7120000e+02,\n",
       "        1.5360000e+01, 1.0485760e+00, 2.3347200e+01, 1.5155200e+01,\n",
       "        1.1878400e+01, 4.9152000e-01, 5.1984000e+02, 3.3744000e+02,\n",
       "        2.6448000e+02, 1.0944000e+01, 2.1904000e+02, 1.7168000e+02,\n",
       "        7.1040000e+00, 1.3456000e+02, 5.5680000e+00, 2.3040000e-01],\n",
       "       [1.0000000e+00, 3.1520000e+01, 9.4000000e-01, 2.3000000e+01,\n",
       "        1.4200000e+01, 1.1600000e+01, 4.4000000e-01, 9.9351040e+02,\n",
       "        2.9628800e+01, 7.2496000e+02, 4.4758400e+02, 3.6563200e+02,\n",
       "        1.3868800e+01, 8.8360000e-01, 2.1620000e+01, 1.3348000e+01,\n",
       "        1.0904000e+01, 4.1360000e-01, 5.2900000e+02, 3.2660000e+02,\n",
       "        2.6680000e+02, 1.0120000e+01, 2.0164000e+02, 1.6472000e+02,\n",
       "        6.2480000e+00, 1.3456000e+02, 5.1040000e+00, 1.9360000e-01],\n",
       "       [1.0000000e+00, 3.1040000e+01, 8.5000000e-01, 2.3200000e+01,\n",
       "        1.4300000e+01, 1.1600000e+01, 4.1000000e-01, 9.6348160e+02,\n",
       "        2.6384000e+01, 7.2012800e+02, 4.4387200e+02, 3.6006400e+02,\n",
       "        1.2726400e+01, 7.2250000e-01, 1.9720000e+01, 1.2155000e+01,\n",
       "        9.8600000e+00, 3.4850000e-01, 5.3824000e+02, 3.3176000e+02,\n",
       "        2.6912000e+02, 9.5120000e+00, 2.0449000e+02, 1.6588000e+02,\n",
       "        5.8630000e+00, 1.3456000e+02, 4.7560000e+00, 1.6810000e-01],\n",
       "       [1.0000000e+00, 3.0500000e+01, 7.7000000e-01, 2.3400000e+01,\n",
       "        1.3500000e+01, 1.1600000e+01, 3.8000000e-01, 9.3025000e+02,\n",
       "        2.3485000e+01, 7.1370000e+02, 4.1175000e+02, 3.5380000e+02,\n",
       "        1.1590000e+01, 5.9290000e-01, 1.8018000e+01, 1.0395000e+01,\n",
       "        8.9320000e+00, 2.9260000e-01, 5.4756000e+02, 3.1590000e+02,\n",
       "        2.7144000e+02, 8.8920000e+00, 1.8225000e+02, 1.5660000e+02,\n",
       "        5.1300000e+00, 1.3456000e+02, 4.4080000e+00, 1.4440000e-01],\n",
       "       [1.0000000e+00, 3.0030000e+01, 6.8000000e-01, 2.3600000e+01,\n",
       "        1.3200000e+01, 1.1600000e+01, 3.6000000e-01, 9.0180090e+02,\n",
       "        2.0420400e+01, 7.0870800e+02, 3.9639600e+02, 3.4834800e+02,\n",
       "        1.0810800e+01, 4.6240000e-01, 1.6048000e+01, 8.9760000e+00,\n",
       "        7.8880000e+00, 2.4480000e-01, 5.5696000e+02, 3.1152000e+02,\n",
       "        2.7376000e+02, 8.4960000e+00, 1.7424000e+02, 1.5312000e+02,\n",
       "        4.7520000e+00, 1.3456000e+02, 4.1760000e+00, 1.2960000e-01],\n",
       "       [1.0000000e+00, 2.9100000e+01, 5.9400000e-01, 2.3900000e+01,\n",
       "        1.3200000e+01, 1.1600000e+01, 3.3000000e-01, 8.4681000e+02,\n",
       "        1.7285400e+01, 6.9549000e+02, 3.8412000e+02, 3.3756000e+02,\n",
       "        9.6030000e+00, 3.5283600e-01, 1.4196600e+01, 7.8408000e+00,\n",
       "        6.8904000e+00, 1.9602000e-01, 5.7121000e+02, 3.1548000e+02,\n",
       "        2.7724000e+02, 7.8870000e+00, 1.7424000e+02, 1.5312000e+02,\n",
       "        4.3560000e+00, 1.3456000e+02, 3.8280000e+00, 1.0890000e-01],\n",
       "       [1.0000000e+00, 2.8020000e+01, 5.0800000e-01, 2.3800000e+01,\n",
       "        1.2800000e+01, 1.1600000e+01, 3.1000000e-01, 7.8512040e+02,\n",
       "        1.4234160e+01, 6.6687600e+02, 3.5865600e+02, 3.2503200e+02,\n",
       "        8.6862000e+00, 2.5806400e-01, 1.2090400e+01, 6.5024000e+00,\n",
       "        5.8928000e+00, 1.5748000e-01, 5.6644000e+02, 3.0464000e+02,\n",
       "        2.7608000e+02, 7.3780000e+00, 1.6384000e+02, 1.4848000e+02,\n",
       "        3.9680000e+00, 1.3456000e+02, 3.5960000e+00, 9.6100000e-02],\n",
       "       [1.0000000e+00, 2.7200000e+01, 5.0000000e-01, 2.4000000e+01,\n",
       "        1.2600000e+01, 1.1600000e+01, 3.0000000e-01, 7.3984000e+02,\n",
       "        1.3600000e+01, 6.5280000e+02, 3.4272000e+02, 3.1552000e+02,\n",
       "        8.1600000e+00, 2.5000000e-01, 1.2000000e+01, 6.3000000e+00,\n",
       "        5.8000000e+00, 1.5000000e-01, 5.7600000e+02, 3.0240000e+02,\n",
       "        2.7840000e+02, 7.2000000e+00, 1.5876000e+02, 1.4616000e+02,\n",
       "        3.7800000e+00, 1.3456000e+02, 3.4800000e+00, 9.0000000e-02]])"
      ]
     },
     "execution_count": 42,
     "metadata": {},
     "output_type": "execute_result"
    }
   ],
   "source": [
    "X_poly = poly.fit_transform(Input)\n",
    "X_poly"
   ]
  },
  {
   "cell_type": "code",
   "execution_count": 43,
   "metadata": {},
   "outputs": [],
   "source": [
    "X_train, X_test, y_train, y_test = train_test_split(X_poly, Output, test_size=0.2, random_state=0)\n",
    "# we take 20% of our data for the test purpose to check how accurate our model is\n",
    "# first it train on the training data then after trainig we can check for the new data"
   ]
  },
  {
   "cell_type": "code",
   "execution_count": 44,
   "metadata": {},
   "outputs": [
    {
     "name": "stdout",
     "output_type": "stream",
     "text": [
      "Training Score : 1.0\n",
      "Testing Score. : 0.678369092470613\n"
     ]
    }
   ],
   "source": [
    "reg.fit(X_train, y_train)\n",
    "print('Training Score :', reg.score(X_train, y_train))\n",
    "print('Testing Score. :', reg.score(X_test, y_test))\n",
    "# we can see the score that how accurate our model is using poly(degree=2)\n",
    "# as it predict our Train data 99.45% accurate\n",
    "# butit performs very poor in test data, so this will be not good for our model"
   ]
  },
  {
   "cell_type": "markdown",
   "metadata": {},
   "source": [
    "### The above score show us that using polynomial model traing score and testing score a large difference, hence it is overfitted model. it is not good for the next coming data."
   ]
  },
  {
   "cell_type": "code",
   "execution_count": null,
   "metadata": {},
   "outputs": [],
   "source": []
  }
 ],
 "metadata": {
  "kernelspec": {
   "display_name": "Python 3",
   "language": "python",
   "name": "python3"
  },
  "language_info": {
   "codemirror_mode": {
    "name": "ipython",
    "version": 3
   },
   "file_extension": ".py",
   "mimetype": "text/x-python",
   "name": "python",
   "nbconvert_exporter": "python",
   "pygments_lexer": "ipython3",
   "version": "3.7.6"
  }
 },
 "nbformat": 4,
 "nbformat_minor": 4
}
