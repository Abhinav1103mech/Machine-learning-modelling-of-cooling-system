{
 "cells": [
  {
   "cell_type": "code",
   "execution_count": 1,
   "metadata": {},
   "outputs": [],
   "source": [
    "import pandas as pd\n",
    "import numpy as np\n",
    "import matplotlib.pyplot as plt\n",
    "import seaborn as sns"
   ]
  },
  {
   "cell_type": "code",
   "execution_count": 2,
   "metadata": {},
   "outputs": [],
   "source": [
    "Project = pd.read_csv(r\"C:\\Users\\user\\Desktop\\Exergy_eff.csv\")"
   ]
  },
  {
   "cell_type": "markdown",
   "metadata": {},
   "source": [
    "#### Following are the 6 input parameter\n",
    "1)Inlet Temp\n",
    "2)inlet Air flow rate\n",
    "3)Specific Humidity\n",
    "4)Extraction Ratio\n",
    "5)inlet water flow rate\n",
    "6)water inlet tempreture\n",
    "#### Output\n",
    "Exergy_Efficiency"
   ]
  },
  {
   "cell_type": "code",
   "execution_count": 3,
   "metadata": {},
   "outputs": [
    {
     "data": {
      "text/html": [
       "<div>\n",
       "<style scoped>\n",
       "    .dataframe tbody tr th:only-of-type {\n",
       "        vertical-align: middle;\n",
       "    }\n",
       "\n",
       "    .dataframe tbody tr th {\n",
       "        vertical-align: top;\n",
       "    }\n",
       "\n",
       "    .dataframe thead th {\n",
       "        text-align: right;\n",
       "    }\n",
       "</style>\n",
       "<table border=\"1\" class=\"dataframe\">\n",
       "  <thead>\n",
       "    <tr style=\"text-align: right;\">\n",
       "      <th></th>\n",
       "      <th>T_INPUT</th>\n",
       "      <th>Air_Flow_Rate</th>\n",
       "      <th>Specific_Humidity(g/kg)</th>\n",
       "      <th>Water_flow_Temp</th>\n",
       "      <th>Water_inlet_rate(lph)</th>\n",
       "      <th>Extraction_ratio</th>\n",
       "      <th>Exergy_Efficiency</th>\n",
       "    </tr>\n",
       "  </thead>\n",
       "  <tbody>\n",
       "    <tr>\n",
       "      <th>0</th>\n",
       "      <td>44.24</td>\n",
       "      <td>2.300</td>\n",
       "      <td>18.1</td>\n",
       "      <td>19.5</td>\n",
       "      <td>11.6</td>\n",
       "      <td>0.75</td>\n",
       "      <td>0.0181</td>\n",
       "    </tr>\n",
       "    <tr>\n",
       "      <th>1</th>\n",
       "      <td>43.50</td>\n",
       "      <td>2.200</td>\n",
       "      <td>18.5</td>\n",
       "      <td>19.5</td>\n",
       "      <td>11.6</td>\n",
       "      <td>0.73</td>\n",
       "      <td>0.0185</td>\n",
       "    </tr>\n",
       "    <tr>\n",
       "      <th>2</th>\n",
       "      <td>42.28</td>\n",
       "      <td>2.140</td>\n",
       "      <td>19.0</td>\n",
       "      <td>19.0</td>\n",
       "      <td>11.6</td>\n",
       "      <td>0.71</td>\n",
       "      <td>0.0190</td>\n",
       "    </tr>\n",
       "    <tr>\n",
       "      <th>3</th>\n",
       "      <td>41.16</td>\n",
       "      <td>2.050</td>\n",
       "      <td>19.4</td>\n",
       "      <td>18.5</td>\n",
       "      <td>11.6</td>\n",
       "      <td>0.71</td>\n",
       "      <td>0.0194</td>\n",
       "    </tr>\n",
       "    <tr>\n",
       "      <th>4</th>\n",
       "      <td>40.04</td>\n",
       "      <td>1.970</td>\n",
       "      <td>19.6</td>\n",
       "      <td>18.1</td>\n",
       "      <td>11.6</td>\n",
       "      <td>0.69</td>\n",
       "      <td>0.0196</td>\n",
       "    </tr>\n",
       "    <tr>\n",
       "      <th>5</th>\n",
       "      <td>39.06</td>\n",
       "      <td>1.885</td>\n",
       "      <td>20.0</td>\n",
       "      <td>17.5</td>\n",
       "      <td>11.6</td>\n",
       "      <td>0.67</td>\n",
       "      <td>0.0200</td>\n",
       "    </tr>\n",
       "    <tr>\n",
       "      <th>6</th>\n",
       "      <td>38.10</td>\n",
       "      <td>1.800</td>\n",
       "      <td>20.3</td>\n",
       "      <td>17.2</td>\n",
       "      <td>11.6</td>\n",
       "      <td>0.67</td>\n",
       "      <td>0.0203</td>\n",
       "    </tr>\n",
       "    <tr>\n",
       "      <th>7</th>\n",
       "      <td>37.18</td>\n",
       "      <td>1.713</td>\n",
       "      <td>20.1</td>\n",
       "      <td>16.8</td>\n",
       "      <td>11.6</td>\n",
       "      <td>0.65</td>\n",
       "      <td>0.0201</td>\n",
       "    </tr>\n",
       "    <tr>\n",
       "      <th>8</th>\n",
       "      <td>36.05</td>\n",
       "      <td>1.627</td>\n",
       "      <td>20.4</td>\n",
       "      <td>16.5</td>\n",
       "      <td>11.6</td>\n",
       "      <td>0.63</td>\n",
       "      <td>0.0204</td>\n",
       "    </tr>\n",
       "    <tr>\n",
       "      <th>9</th>\n",
       "      <td>35.50</td>\n",
       "      <td>1.540</td>\n",
       "      <td>21.3</td>\n",
       "      <td>16.2</td>\n",
       "      <td>11.6</td>\n",
       "      <td>0.61</td>\n",
       "      <td>0.0213</td>\n",
       "    </tr>\n",
       "    <tr>\n",
       "      <th>10</th>\n",
       "      <td>35.10</td>\n",
       "      <td>1.450</td>\n",
       "      <td>21.5</td>\n",
       "      <td>16.2</td>\n",
       "      <td>11.6</td>\n",
       "      <td>0.59</td>\n",
       "      <td>0.0215</td>\n",
       "    </tr>\n",
       "    <tr>\n",
       "      <th>11</th>\n",
       "      <td>34.50</td>\n",
       "      <td>1.370</td>\n",
       "      <td>21.7</td>\n",
       "      <td>15.9</td>\n",
       "      <td>11.6</td>\n",
       "      <td>0.57</td>\n",
       "      <td>0.0217</td>\n",
       "    </tr>\n",
       "    <tr>\n",
       "      <th>12</th>\n",
       "      <td>34.01</td>\n",
       "      <td>1.280</td>\n",
       "      <td>22.0</td>\n",
       "      <td>15.7</td>\n",
       "      <td>11.6</td>\n",
       "      <td>0.55</td>\n",
       "      <td>0.0220</td>\n",
       "    </tr>\n",
       "    <tr>\n",
       "      <th>13</th>\n",
       "      <td>33.60</td>\n",
       "      <td>1.197</td>\n",
       "      <td>22.1</td>\n",
       "      <td>15.4</td>\n",
       "      <td>11.6</td>\n",
       "      <td>0.53</td>\n",
       "      <td>0.0221</td>\n",
       "    </tr>\n",
       "    <tr>\n",
       "      <th>14</th>\n",
       "      <td>32.98</td>\n",
       "      <td>1.100</td>\n",
       "      <td>22.4</td>\n",
       "      <td>15.2</td>\n",
       "      <td>11.6</td>\n",
       "      <td>0.51</td>\n",
       "      <td>0.0224</td>\n",
       "    </tr>\n",
       "    <tr>\n",
       "      <th>15</th>\n",
       "      <td>32.00</td>\n",
       "      <td>1.024</td>\n",
       "      <td>22.8</td>\n",
       "      <td>14.8</td>\n",
       "      <td>11.6</td>\n",
       "      <td>0.48</td>\n",
       "      <td>0.0228</td>\n",
       "    </tr>\n",
       "    <tr>\n",
       "      <th>16</th>\n",
       "      <td>31.52</td>\n",
       "      <td>0.940</td>\n",
       "      <td>23.0</td>\n",
       "      <td>14.2</td>\n",
       "      <td>11.6</td>\n",
       "      <td>0.44</td>\n",
       "      <td>0.0230</td>\n",
       "    </tr>\n",
       "    <tr>\n",
       "      <th>17</th>\n",
       "      <td>31.04</td>\n",
       "      <td>0.850</td>\n",
       "      <td>23.2</td>\n",
       "      <td>14.3</td>\n",
       "      <td>11.6</td>\n",
       "      <td>0.41</td>\n",
       "      <td>0.0232</td>\n",
       "    </tr>\n",
       "    <tr>\n",
       "      <th>18</th>\n",
       "      <td>30.50</td>\n",
       "      <td>0.770</td>\n",
       "      <td>23.4</td>\n",
       "      <td>13.5</td>\n",
       "      <td>11.6</td>\n",
       "      <td>0.38</td>\n",
       "      <td>0.0234</td>\n",
       "    </tr>\n",
       "    <tr>\n",
       "      <th>19</th>\n",
       "      <td>30.03</td>\n",
       "      <td>0.680</td>\n",
       "      <td>23.6</td>\n",
       "      <td>13.2</td>\n",
       "      <td>11.6</td>\n",
       "      <td>0.36</td>\n",
       "      <td>0.0236</td>\n",
       "    </tr>\n",
       "    <tr>\n",
       "      <th>20</th>\n",
       "      <td>29.10</td>\n",
       "      <td>0.594</td>\n",
       "      <td>23.9</td>\n",
       "      <td>13.2</td>\n",
       "      <td>11.6</td>\n",
       "      <td>0.33</td>\n",
       "      <td>0.0239</td>\n",
       "    </tr>\n",
       "    <tr>\n",
       "      <th>21</th>\n",
       "      <td>28.02</td>\n",
       "      <td>0.508</td>\n",
       "      <td>23.8</td>\n",
       "      <td>12.8</td>\n",
       "      <td>11.6</td>\n",
       "      <td>0.31</td>\n",
       "      <td>0.0238</td>\n",
       "    </tr>\n",
       "    <tr>\n",
       "      <th>22</th>\n",
       "      <td>27.20</td>\n",
       "      <td>0.500</td>\n",
       "      <td>24.0</td>\n",
       "      <td>12.6</td>\n",
       "      <td>11.6</td>\n",
       "      <td>0.30</td>\n",
       "      <td>0.0240</td>\n",
       "    </tr>\n",
       "  </tbody>\n",
       "</table>\n",
       "</div>"
      ],
      "text/plain": [
       "    T_INPUT  Air_Flow_Rate  Specific_Humidity(g/kg)  Water_flow_Temp  \\\n",
       "0     44.24          2.300                     18.1             19.5   \n",
       "1     43.50          2.200                     18.5             19.5   \n",
       "2     42.28          2.140                     19.0             19.0   \n",
       "3     41.16          2.050                     19.4             18.5   \n",
       "4     40.04          1.970                     19.6             18.1   \n",
       "5     39.06          1.885                     20.0             17.5   \n",
       "6     38.10          1.800                     20.3             17.2   \n",
       "7     37.18          1.713                     20.1             16.8   \n",
       "8     36.05          1.627                     20.4             16.5   \n",
       "9     35.50          1.540                     21.3             16.2   \n",
       "10    35.10          1.450                     21.5             16.2   \n",
       "11    34.50          1.370                     21.7             15.9   \n",
       "12    34.01          1.280                     22.0             15.7   \n",
       "13    33.60          1.197                     22.1             15.4   \n",
       "14    32.98          1.100                     22.4             15.2   \n",
       "15    32.00          1.024                     22.8             14.8   \n",
       "16    31.52          0.940                     23.0             14.2   \n",
       "17    31.04          0.850                     23.2             14.3   \n",
       "18    30.50          0.770                     23.4             13.5   \n",
       "19    30.03          0.680                     23.6             13.2   \n",
       "20    29.10          0.594                     23.9             13.2   \n",
       "21    28.02          0.508                     23.8             12.8   \n",
       "22    27.20          0.500                     24.0             12.6   \n",
       "\n",
       "    Water_inlet_rate(lph)  Extraction_ratio  Exergy_Efficiency  \n",
       "0                    11.6              0.75             0.0181  \n",
       "1                    11.6              0.73             0.0185  \n",
       "2                    11.6              0.71             0.0190  \n",
       "3                    11.6              0.71             0.0194  \n",
       "4                    11.6              0.69             0.0196  \n",
       "5                    11.6              0.67             0.0200  \n",
       "6                    11.6              0.67             0.0203  \n",
       "7                    11.6              0.65             0.0201  \n",
       "8                    11.6              0.63             0.0204  \n",
       "9                    11.6              0.61             0.0213  \n",
       "10                   11.6              0.59             0.0215  \n",
       "11                   11.6              0.57             0.0217  \n",
       "12                   11.6              0.55             0.0220  \n",
       "13                   11.6              0.53             0.0221  \n",
       "14                   11.6              0.51             0.0224  \n",
       "15                   11.6              0.48             0.0228  \n",
       "16                   11.6              0.44             0.0230  \n",
       "17                   11.6              0.41             0.0232  \n",
       "18                   11.6              0.38             0.0234  \n",
       "19                   11.6              0.36             0.0236  \n",
       "20                   11.6              0.33             0.0239  \n",
       "21                   11.6              0.31             0.0238  \n",
       "22                   11.6              0.30             0.0240  "
      ]
     },
     "execution_count": 3,
     "metadata": {},
     "output_type": "execute_result"
    }
   ],
   "source": [
    "Project.head(23)"
   ]
  },
  {
   "cell_type": "code",
   "execution_count": 4,
   "metadata": {},
   "outputs": [
    {
     "name": "stdout",
     "output_type": "stream",
     "text": [
      "<class 'pandas.core.frame.DataFrame'>\n",
      "RangeIndex: 23 entries, 0 to 22\n",
      "Data columns (total 7 columns):\n",
      " #   Column                   Non-Null Count  Dtype  \n",
      "---  ------                   --------------  -----  \n",
      " 0   T_INPUT                  23 non-null     float64\n",
      " 1   Air_Flow_Rate            23 non-null     float64\n",
      " 2   Specific_Humidity(g/kg)  23 non-null     float64\n",
      " 3   Water_flow_Temp          23 non-null     float64\n",
      " 4   Water_inlet_rate(lph)    23 non-null     float64\n",
      " 5   Extraction_ratio         23 non-null     float64\n",
      " 6   Exergy_Efficiency        23 non-null     float64\n",
      "dtypes: float64(7)\n",
      "memory usage: 1.4 KB\n"
     ]
    }
   ],
   "source": [
    "Project.info()"
   ]
  },
  {
   "cell_type": "code",
   "execution_count": 5,
   "metadata": {},
   "outputs": [
    {
     "data": {
      "text/html": [
       "<div>\n",
       "<style scoped>\n",
       "    .dataframe tbody tr th:only-of-type {\n",
       "        vertical-align: middle;\n",
       "    }\n",
       "\n",
       "    .dataframe tbody tr th {\n",
       "        vertical-align: top;\n",
       "    }\n",
       "\n",
       "    .dataframe thead th {\n",
       "        text-align: right;\n",
       "    }\n",
       "</style>\n",
       "<table border=\"1\" class=\"dataframe\">\n",
       "  <thead>\n",
       "    <tr style=\"text-align: right;\">\n",
       "      <th></th>\n",
       "      <th>T_INPUT</th>\n",
       "      <th>Air_Flow_Rate</th>\n",
       "      <th>Specific_Humidity(g/kg)</th>\n",
       "      <th>Water_flow_Temp</th>\n",
       "      <th>Water_inlet_rate(lph)</th>\n",
       "      <th>Extraction_ratio</th>\n",
       "      <th>Exergy_Efficiency</th>\n",
       "    </tr>\n",
       "  </thead>\n",
       "  <tbody>\n",
       "    <tr>\n",
       "      <th>count</th>\n",
       "      <td>23.000000</td>\n",
       "      <td>23.000000</td>\n",
       "      <td>23.000000</td>\n",
       "      <td>23.000000</td>\n",
       "      <td>2.300000e+01</td>\n",
       "      <td>23.000000</td>\n",
       "      <td>23.000000</td>\n",
       "    </tr>\n",
       "    <tr>\n",
       "      <th>mean</th>\n",
       "      <td>35.074348</td>\n",
       "      <td>1.369043</td>\n",
       "      <td>21.482609</td>\n",
       "      <td>15.904348</td>\n",
       "      <td>1.160000e+01</td>\n",
       "      <td>0.546957</td>\n",
       "      <td>0.021483</td>\n",
       "    </tr>\n",
       "    <tr>\n",
       "      <th>std</th>\n",
       "      <td>4.951760</td>\n",
       "      <td>0.574550</td>\n",
       "      <td>1.850467</td>\n",
       "      <td>2.142742</td>\n",
       "      <td>3.632560e-15</td>\n",
       "      <td>0.145522</td>\n",
       "      <td>0.001850</td>\n",
       "    </tr>\n",
       "    <tr>\n",
       "      <th>min</th>\n",
       "      <td>27.200000</td>\n",
       "      <td>0.500000</td>\n",
       "      <td>18.100000</td>\n",
       "      <td>12.600000</td>\n",
       "      <td>1.160000e+01</td>\n",
       "      <td>0.300000</td>\n",
       "      <td>0.018100</td>\n",
       "    </tr>\n",
       "    <tr>\n",
       "      <th>25%</th>\n",
       "      <td>31.280000</td>\n",
       "      <td>0.895000</td>\n",
       "      <td>20.050000</td>\n",
       "      <td>14.250000</td>\n",
       "      <td>1.160000e+01</td>\n",
       "      <td>0.425000</td>\n",
       "      <td>0.020050</td>\n",
       "    </tr>\n",
       "    <tr>\n",
       "      <th>50%</th>\n",
       "      <td>34.500000</td>\n",
       "      <td>1.370000</td>\n",
       "      <td>21.700000</td>\n",
       "      <td>15.900000</td>\n",
       "      <td>1.160000e+01</td>\n",
       "      <td>0.570000</td>\n",
       "      <td>0.021700</td>\n",
       "    </tr>\n",
       "    <tr>\n",
       "      <th>75%</th>\n",
       "      <td>38.580000</td>\n",
       "      <td>1.842500</td>\n",
       "      <td>23.100000</td>\n",
       "      <td>17.350000</td>\n",
       "      <td>1.160000e+01</td>\n",
       "      <td>0.670000</td>\n",
       "      <td>0.023100</td>\n",
       "    </tr>\n",
       "    <tr>\n",
       "      <th>max</th>\n",
       "      <td>44.240000</td>\n",
       "      <td>2.300000</td>\n",
       "      <td>24.000000</td>\n",
       "      <td>19.500000</td>\n",
       "      <td>1.160000e+01</td>\n",
       "      <td>0.750000</td>\n",
       "      <td>0.024000</td>\n",
       "    </tr>\n",
       "  </tbody>\n",
       "</table>\n",
       "</div>"
      ],
      "text/plain": [
       "         T_INPUT  Air_Flow_Rate  Specific_Humidity(g/kg)  Water_flow_Temp  \\\n",
       "count  23.000000      23.000000                23.000000        23.000000   \n",
       "mean   35.074348       1.369043                21.482609        15.904348   \n",
       "std     4.951760       0.574550                 1.850467         2.142742   \n",
       "min    27.200000       0.500000                18.100000        12.600000   \n",
       "25%    31.280000       0.895000                20.050000        14.250000   \n",
       "50%    34.500000       1.370000                21.700000        15.900000   \n",
       "75%    38.580000       1.842500                23.100000        17.350000   \n",
       "max    44.240000       2.300000                24.000000        19.500000   \n",
       "\n",
       "       Water_inlet_rate(lph)  Extraction_ratio  Exergy_Efficiency  \n",
       "count           2.300000e+01         23.000000          23.000000  \n",
       "mean            1.160000e+01          0.546957           0.021483  \n",
       "std             3.632560e-15          0.145522           0.001850  \n",
       "min             1.160000e+01          0.300000           0.018100  \n",
       "25%             1.160000e+01          0.425000           0.020050  \n",
       "50%             1.160000e+01          0.570000           0.021700  \n",
       "75%             1.160000e+01          0.670000           0.023100  \n",
       "max             1.160000e+01          0.750000           0.024000  "
      ]
     },
     "execution_count": 5,
     "metadata": {},
     "output_type": "execute_result"
    }
   ],
   "source": [
    "Project.describe()"
   ]
  },
  {
   "cell_type": "markdown",
   "metadata": {},
   "source": [
    "## Data Visualisation"
   ]
  },
  {
   "cell_type": "code",
   "execution_count": 6,
   "metadata": {},
   "outputs": [
    {
     "data": {
      "image/png": "[encoded data removed]",
      "text/plain": [
       "<Figure size 432x288 with 1 Axes>"
      ]
     },
     "metadata": {
      "needs_background": "light"
     },
     "output_type": "display_data"
    }
   ],
   "source": [
    "sns.scatterplot(\"T_INPUT\",\"Exergy_Efficiency\",data=Project);"
   ]
  },
  {
   "cell_type": "code",
   "execution_count": 7,
   "metadata": {},
   "outputs": [
    {
     "data": {
      "image/png": "[encoded data removed]",
      "text/plain": [
       "<Figure size 432x288 with 1 Axes>"
      ]
     },
     "metadata": {
      "needs_background": "light"
     },
     "output_type": "display_data"
    }
   ],
   "source": [
    "sns.regplot(\"T_INPUT\",\"Exergy_Efficiency\",data=Project,order=2);"
   ]
  },
  {
   "cell_type": "code",
   "execution_count": 8,
   "metadata": {},
   "outputs": [
    {
     "data": {
      "image/png": "[encoded data removed]",
      "text/plain": [
       "<Figure size 432x288 with 1 Axes>"
      ]
     },
     "metadata": {
      "needs_background": "light"
     },
     "output_type": "display_data"
    }
   ],
   "source": [
    "sns.regplot(\"Air_Flow_Rate\",\"Exergy_Efficiency\",data=Project,order=2);"
   ]
  },
  {
   "cell_type": "code",
   "execution_count": 9,
   "metadata": {},
   "outputs": [
    {
     "data": {
      "image/png": "[encoded data removed]",
      "text/plain": [
       "<Figure size 432x288 with 1 Axes>"
      ]
     },
     "metadata": {
      "needs_background": "light"
     },
     "output_type": "display_data"
    }
   ],
   "source": [
    "sns.regplot(\"Specific_Humidity(g/kg)\",\"Exergy_Efficiency\",data=Project,order=2);"
   ]
  },
  {
   "cell_type": "code",
   "execution_count": 10,
   "metadata": {},
   "outputs": [
    {
     "data": {
      "image/png": "[encoded data removed]",
      "text/plain": [
       "<Figure size 432x288 with 1 Axes>"
      ]
     },
     "metadata": {
      "needs_background": "light"
     },
     "output_type": "display_data"
    }
   ],
   "source": [
    "sns.regplot(\"Water_flow_Temp\",\"Exergy_Efficiency\",data=Project,order=3);"
   ]
  },
  {
   "cell_type": "code",
   "execution_count": 11,
   "metadata": {},
   "outputs": [
    {
     "data": {
      "image/png": "[encoded data removed]",
      "text/plain": [
       "<Figure size 432x288 with 1 Axes>"
      ]
     },
     "metadata": {
      "needs_background": "light"
     },
     "output_type": "display_data"
    }
   ],
   "source": [
    "sns.regplot(\"Extraction_ratio\",\"Exergy_Efficiency\",data=Project,order=2);"
   ]
  },
  {
   "cell_type": "code",
   "execution_count": 24,
   "metadata": {},
   "outputs": [
    {
     "data": {
      "image/png": "[encoded data removed]",
      "text/plain": [
       "<Figure size 1260x1260 with 56 Axes>"
      ]
     },
     "metadata": {
      "needs_background": "light"
     },
     "output_type": "display_data"
    }
   ],
   "source": [
    "sns.pairplot(Project);"
   ]
  },
  {
   "cell_type": "markdown",
   "metadata": {},
   "source": [
    "### Data Preprocessing"
   ]
  },
  {
   "cell_type": "code",
   "execution_count": 25,
   "metadata": {},
   "outputs": [],
   "source": [
    "Input = Project.drop(columns=[\"Exergy_Efficiency\"])\n",
    "# taking T_OUTPUT as output column,which have to measure based on the input variable"
   ]
  },
  {
   "cell_type": "code",
   "execution_count": 26,
   "metadata": {},
   "outputs": [
    {
     "data": {
      "text/plain": [
       "(23, 6)"
      ]
     },
     "execution_count": 26,
     "metadata": {},
     "output_type": "execute_result"
    }
   ],
   "source": [
    "Input.shape"
   ]
  },
  {
   "cell_type": "code",
   "execution_count": 27,
   "metadata": {},
   "outputs": [],
   "source": [
    "Output = Project[[\"Exergy_Efficiency\"]]"
   ]
  },
  {
   "cell_type": "code",
   "execution_count": 28,
   "metadata": {},
   "outputs": [
    {
     "data": {
      "text/plain": [
       "(23, 1)"
      ]
     },
     "execution_count": 28,
     "metadata": {},
     "output_type": "execute_result"
    }
   ],
   "source": [
    "Output.shape"
   ]
  },
  {
   "cell_type": "code",
   "execution_count": 29,
   "metadata": {},
   "outputs": [],
   "source": [
    "from sklearn.preprocessing import StandardScaler"
   ]
  },
  {
   "cell_type": "code",
   "execution_count": 30,
   "metadata": {},
   "outputs": [],
   "source": [
    "sc = StandardScaler()"
   ]
  },
  {
   "cell_type": "code",
   "execution_count": 31,
   "metadata": {},
   "outputs": [],
   "source": [
    "sc_ = sc.fit_transform(Input)"
   ]
  },
  {
   "cell_type": "code",
   "execution_count": 32,
   "metadata": {},
   "outputs": [],
   "source": [
    "Scaled_project = pd.DataFrame(sc_,columns=['T_INPUT','Air_Flow_Rate','Specific_Humidity','Water_flow_Temp','water_F.R(lph)',\n",
    "                                'Extraction_ratio'])"
   ]
  },
  {
   "cell_type": "code",
   "execution_count": 33,
   "metadata": {},
   "outputs": [
    {
     "data": {
      "text/html": [
       "<div>\n",
       "<style scoped>\n",
       "    .dataframe tbody tr th:only-of-type {\n",
       "        vertical-align: middle;\n",
       "    }\n",
       "\n",
       "    .dataframe tbody tr th {\n",
       "        vertical-align: top;\n",
       "    }\n",
       "\n",
       "    .dataframe thead th {\n",
       "        text-align: right;\n",
       "    }\n",
       "</style>\n",
       "<table border=\"1\" class=\"dataframe\">\n",
       "  <thead>\n",
       "    <tr style=\"text-align: right;\">\n",
       "      <th></th>\n",
       "      <th>T_INPUT</th>\n",
       "      <th>Air_Flow_Rate</th>\n",
       "      <th>Specific_Humidity</th>\n",
       "      <th>Water_flow_Temp</th>\n",
       "      <th>water_F.R(lph)</th>\n",
       "      <th>Extraction_ratio</th>\n",
       "    </tr>\n",
       "  </thead>\n",
       "  <tbody>\n",
       "    <tr>\n",
       "      <th>0</th>\n",
       "      <td>1.892589</td>\n",
       "      <td>1.656739</td>\n",
       "      <td>-1.869059</td>\n",
       "      <td>1.715775</td>\n",
       "      <td>1.0</td>\n",
       "      <td>1.426634</td>\n",
       "    </tr>\n",
       "    <tr>\n",
       "      <th>1</th>\n",
       "      <td>1.739789</td>\n",
       "      <td>1.478778</td>\n",
       "      <td>-1.648039</td>\n",
       "      <td>1.715775</td>\n",
       "      <td>1.0</td>\n",
       "      <td>1.286109</td>\n",
       "    </tr>\n",
       "    <tr>\n",
       "      <th>2</th>\n",
       "      <td>1.487874</td>\n",
       "      <td>1.372002</td>\n",
       "      <td>-1.371764</td>\n",
       "      <td>1.477185</td>\n",
       "      <td>1.0</td>\n",
       "      <td>1.145584</td>\n",
       "    </tr>\n",
       "    <tr>\n",
       "      <th>3</th>\n",
       "      <td>1.256609</td>\n",
       "      <td>1.211837</td>\n",
       "      <td>-1.150744</td>\n",
       "      <td>1.238595</td>\n",
       "      <td>1.0</td>\n",
       "      <td>1.145584</td>\n",
       "    </tr>\n",
       "    <tr>\n",
       "      <th>4</th>\n",
       "      <td>1.025343</td>\n",
       "      <td>1.069468</td>\n",
       "      <td>-1.040234</td>\n",
       "      <td>1.047722</td>\n",
       "      <td>1.0</td>\n",
       "      <td>1.005059</td>\n",
       "    </tr>\n",
       "    <tr>\n",
       "      <th>5</th>\n",
       "      <td>0.822986</td>\n",
       "      <td>0.918201</td>\n",
       "      <td>-0.819215</td>\n",
       "      <td>0.761414</td>\n",
       "      <td>1.0</td>\n",
       "      <td>0.864534</td>\n",
       "    </tr>\n",
       "    <tr>\n",
       "      <th>6</th>\n",
       "      <td>0.624758</td>\n",
       "      <td>0.766935</td>\n",
       "      <td>-0.653450</td>\n",
       "      <td>0.618260</td>\n",
       "      <td>1.0</td>\n",
       "      <td>0.864534</td>\n",
       "    </tr>\n",
       "    <tr>\n",
       "      <th>7</th>\n",
       "      <td>0.434790</td>\n",
       "      <td>0.612108</td>\n",
       "      <td>-0.763960</td>\n",
       "      <td>0.427388</td>\n",
       "      <td>1.0</td>\n",
       "      <td>0.724009</td>\n",
       "    </tr>\n",
       "    <tr>\n",
       "      <th>8</th>\n",
       "      <td>0.201460</td>\n",
       "      <td>0.459062</td>\n",
       "      <td>-0.598195</td>\n",
       "      <td>0.284234</td>\n",
       "      <td>1.0</td>\n",
       "      <td>0.583484</td>\n",
       "    </tr>\n",
       "    <tr>\n",
       "      <th>9</th>\n",
       "      <td>0.087892</td>\n",
       "      <td>0.304236</td>\n",
       "      <td>-0.100900</td>\n",
       "      <td>0.141079</td>\n",
       "      <td>1.0</td>\n",
       "      <td>0.442959</td>\n",
       "    </tr>\n",
       "    <tr>\n",
       "      <th>10</th>\n",
       "      <td>0.005297</td>\n",
       "      <td>0.144071</td>\n",
       "      <td>0.009610</td>\n",
       "      <td>0.141079</td>\n",
       "      <td>1.0</td>\n",
       "      <td>0.302434</td>\n",
       "    </tr>\n",
       "    <tr>\n",
       "      <th>11</th>\n",
       "      <td>-0.118595</td>\n",
       "      <td>0.001702</td>\n",
       "      <td>0.120119</td>\n",
       "      <td>-0.002075</td>\n",
       "      <td>1.0</td>\n",
       "      <td>0.161909</td>\n",
       "    </tr>\n",
       "    <tr>\n",
       "      <th>12</th>\n",
       "      <td>-0.219774</td>\n",
       "      <td>-0.158463</td>\n",
       "      <td>0.285884</td>\n",
       "      <td>-0.097511</td>\n",
       "      <td>1.0</td>\n",
       "      <td>0.021384</td>\n",
       "    </tr>\n",
       "    <tr>\n",
       "      <th>13</th>\n",
       "      <td>-0.304434</td>\n",
       "      <td>-0.306170</td>\n",
       "      <td>0.341139</td>\n",
       "      <td>-0.240665</td>\n",
       "      <td>1.0</td>\n",
       "      <td>-0.119141</td>\n",
       "    </tr>\n",
       "    <tr>\n",
       "      <th>14</th>\n",
       "      <td>-0.432456</td>\n",
       "      <td>-0.478792</td>\n",
       "      <td>0.506904</td>\n",
       "      <td>-0.336101</td>\n",
       "      <td>1.0</td>\n",
       "      <td>-0.259666</td>\n",
       "    </tr>\n",
       "    <tr>\n",
       "      <th>15</th>\n",
       "      <td>-0.634813</td>\n",
       "      <td>-0.614043</td>\n",
       "      <td>0.727924</td>\n",
       "      <td>-0.526973</td>\n",
       "      <td>1.0</td>\n",
       "      <td>-0.470453</td>\n",
       "    </tr>\n",
       "    <tr>\n",
       "      <th>16</th>\n",
       "      <td>-0.733927</td>\n",
       "      <td>-0.763530</td>\n",
       "      <td>0.838434</td>\n",
       "      <td>-0.813282</td>\n",
       "      <td>1.0</td>\n",
       "      <td>-0.751503</td>\n",
       "    </tr>\n",
       "    <tr>\n",
       "      <th>17</th>\n",
       "      <td>-0.833041</td>\n",
       "      <td>-0.923695</td>\n",
       "      <td>0.948944</td>\n",
       "      <td>-0.765563</td>\n",
       "      <td>1.0</td>\n",
       "      <td>-0.962291</td>\n",
       "    </tr>\n",
       "    <tr>\n",
       "      <th>18</th>\n",
       "      <td>-0.944544</td>\n",
       "      <td>-1.066064</td>\n",
       "      <td>1.059454</td>\n",
       "      <td>-1.147308</td>\n",
       "      <td>1.0</td>\n",
       "      <td>-1.173078</td>\n",
       "    </tr>\n",
       "    <tr>\n",
       "      <th>19</th>\n",
       "      <td>-1.041593</td>\n",
       "      <td>-1.226229</td>\n",
       "      <td>1.169963</td>\n",
       "      <td>-1.290462</td>\n",
       "      <td>1.0</td>\n",
       "      <td>-1.313603</td>\n",
       "    </tr>\n",
       "    <tr>\n",
       "      <th>20</th>\n",
       "      <td>-1.233626</td>\n",
       "      <td>-1.379275</td>\n",
       "      <td>1.335728</td>\n",
       "      <td>-1.290462</td>\n",
       "      <td>1.0</td>\n",
       "      <td>-1.524391</td>\n",
       "    </tr>\n",
       "    <tr>\n",
       "      <th>21</th>\n",
       "      <td>-1.456632</td>\n",
       "      <td>-1.532322</td>\n",
       "      <td>1.280473</td>\n",
       "      <td>-1.481334</td>\n",
       "      <td>1.0</td>\n",
       "      <td>-1.664916</td>\n",
       "    </tr>\n",
       "    <tr>\n",
       "      <th>22</th>\n",
       "      <td>-1.625952</td>\n",
       "      <td>-1.546558</td>\n",
       "      <td>1.390983</td>\n",
       "      <td>-1.576770</td>\n",
       "      <td>1.0</td>\n",
       "      <td>-1.735178</td>\n",
       "    </tr>\n",
       "  </tbody>\n",
       "</table>\n",
       "</div>"
      ],
      "text/plain": [
       "     T_INPUT  Air_Flow_Rate  Specific_Humidity  Water_flow_Temp  \\\n",
       "0   1.892589       1.656739          -1.869059         1.715775   \n",
       "1   1.739789       1.478778          -1.648039         1.715775   \n",
       "2   1.487874       1.372002          -1.371764         1.477185   \n",
       "3   1.256609       1.211837          -1.150744         1.238595   \n",
       "4   1.025343       1.069468          -1.040234         1.047722   \n",
       "5   0.822986       0.918201          -0.819215         0.761414   \n",
       "6   0.624758       0.766935          -0.653450         0.618260   \n",
       "7   0.434790       0.612108          -0.763960         0.427388   \n",
       "8   0.201460       0.459062          -0.598195         0.284234   \n",
       "9   0.087892       0.304236          -0.100900         0.141079   \n",
       "10  0.005297       0.144071           0.009610         0.141079   \n",
       "11 -0.118595       0.001702           0.120119        -0.002075   \n",
       "12 -0.219774      -0.158463           0.285884        -0.097511   \n",
       "13 -0.304434      -0.306170           0.341139        -0.240665   \n",
       "14 -0.432456      -0.478792           0.506904        -0.336101   \n",
       "15 -0.634813      -0.614043           0.727924        -0.526973   \n",
       "16 -0.733927      -0.763530           0.838434        -0.813282   \n",
       "17 -0.833041      -0.923695           0.948944        -0.765563   \n",
       "18 -0.944544      -1.066064           1.059454        -1.147308   \n",
       "19 -1.041593      -1.226229           1.169963        -1.290462   \n",
       "20 -1.233626      -1.379275           1.335728        -1.290462   \n",
       "21 -1.456632      -1.532322           1.280473        -1.481334   \n",
       "22 -1.625952      -1.546558           1.390983        -1.576770   \n",
       "\n",
       "    water_F.R(lph)  Extraction_ratio  \n",
       "0              1.0          1.426634  \n",
       "1              1.0          1.286109  \n",
       "2              1.0          1.145584  \n",
       "3              1.0          1.145584  \n",
       "4              1.0          1.005059  \n",
       "5              1.0          0.864534  \n",
       "6              1.0          0.864534  \n",
       "7              1.0          0.724009  \n",
       "8              1.0          0.583484  \n",
       "9              1.0          0.442959  \n",
       "10             1.0          0.302434  \n",
       "11             1.0          0.161909  \n",
       "12             1.0          0.021384  \n",
       "13             1.0         -0.119141  \n",
       "14             1.0         -0.259666  \n",
       "15             1.0         -0.470453  \n",
       "16             1.0         -0.751503  \n",
       "17             1.0         -0.962291  \n",
       "18             1.0         -1.173078  \n",
       "19             1.0         -1.313603  \n",
       "20             1.0         -1.524391  \n",
       "21             1.0         -1.664916  \n",
       "22             1.0         -1.735178  "
      ]
     },
     "execution_count": 33,
     "metadata": {},
     "output_type": "execute_result"
    }
   ],
   "source": [
    "Scaled_project.head(23)"
   ]
  },
  {
   "cell_type": "markdown",
   "metadata": {},
   "source": [
    "### Modelling"
   ]
  },
  {
   "cell_type": "code",
   "execution_count": 34,
   "metadata": {},
   "outputs": [],
   "source": [
    "from sklearn.model_selection import train_test_split\n",
    "X_train, X_test, Y_train, Y_test = train_test_split(sc_,Output, test_size=0.2, random_state=0)\n",
    "# we take 20% of our data for the test purpose to check how accurate our model is\n",
    "# first it train on the training data then after trainig we can check for the new data"
   ]
  },
  {
   "cell_type": "code",
   "execution_count": 35,
   "metadata": {},
   "outputs": [
    {
     "data": {
      "text/plain": [
       "(18, 6)"
      ]
     },
     "execution_count": 35,
     "metadata": {},
     "output_type": "execute_result"
    }
   ],
   "source": [
    "X_train.shape"
   ]
  },
  {
   "cell_type": "code",
   "execution_count": 36,
   "metadata": {},
   "outputs": [
    {
     "data": {
      "text/plain": [
       "(5, 6)"
      ]
     },
     "execution_count": 36,
     "metadata": {},
     "output_type": "execute_result"
    }
   ],
   "source": [
    "X_test.shape"
   ]
  },
  {
   "cell_type": "code",
   "execution_count": 37,
   "metadata": {},
   "outputs": [
    {
     "data": {
      "text/plain": [
       "(18, 1)"
      ]
     },
     "execution_count": 37,
     "metadata": {},
     "output_type": "execute_result"
    }
   ],
   "source": [
    "Y_train.shape"
   ]
  },
  {
   "cell_type": "code",
   "execution_count": 38,
   "metadata": {},
   "outputs": [
    {
     "data": {
      "text/plain": [
       "(5, 1)"
      ]
     },
     "execution_count": 38,
     "metadata": {},
     "output_type": "execute_result"
    }
   ],
   "source": [
    "Y_test.shape"
   ]
  },
  {
   "cell_type": "code",
   "execution_count": 39,
   "metadata": {},
   "outputs": [
    {
     "data": {
      "text/html": [
       "<div>\n",
       "<style scoped>\n",
       "    .dataframe tbody tr th:only-of-type {\n",
       "        vertical-align: middle;\n",
       "    }\n",
       "\n",
       "    .dataframe tbody tr th {\n",
       "        vertical-align: top;\n",
       "    }\n",
       "\n",
       "    .dataframe thead th {\n",
       "        text-align: right;\n",
       "    }\n",
       "</style>\n",
       "<table border=\"1\" class=\"dataframe\">\n",
       "  <thead>\n",
       "    <tr style=\"text-align: right;\">\n",
       "      <th></th>\n",
       "      <th>Exergy_Efficiency</th>\n",
       "    </tr>\n",
       "  </thead>\n",
       "  <tbody>\n",
       "    <tr>\n",
       "      <th>11</th>\n",
       "      <td>0.0217</td>\n",
       "    </tr>\n",
       "    <tr>\n",
       "      <th>10</th>\n",
       "      <td>0.0215</td>\n",
       "    </tr>\n",
       "    <tr>\n",
       "      <th>21</th>\n",
       "      <td>0.0238</td>\n",
       "    </tr>\n",
       "    <tr>\n",
       "      <th>14</th>\n",
       "      <td>0.0224</td>\n",
       "    </tr>\n",
       "    <tr>\n",
       "      <th>20</th>\n",
       "      <td>0.0239</td>\n",
       "    </tr>\n",
       "  </tbody>\n",
       "</table>\n",
       "</div>"
      ],
      "text/plain": [
       "    Exergy_Efficiency\n",
       "11             0.0217\n",
       "10             0.0215\n",
       "21             0.0238\n",
       "14             0.0224\n",
       "20             0.0239"
      ]
     },
     "execution_count": 39,
     "metadata": {},
     "output_type": "execute_result"
    }
   ],
   "source": [
    "Y_test"
   ]
  },
  {
   "cell_type": "code",
   "execution_count": 40,
   "metadata": {},
   "outputs": [],
   "source": [
    "from sklearn.linear_model import LinearRegression"
   ]
  },
  {
   "cell_type": "code",
   "execution_count": 41,
   "metadata": {},
   "outputs": [],
   "source": [
    "reg = LinearRegression()"
   ]
  },
  {
   "cell_type": "code",
   "execution_count": 42,
   "metadata": {},
   "outputs": [
    {
     "data": {
      "text/plain": [
       "LinearRegression()"
      ]
     },
     "execution_count": 42,
     "metadata": {},
     "output_type": "execute_result"
    }
   ],
   "source": [
    "reg.fit(X_train,Y_train)"
   ]
  },
  {
   "cell_type": "code",
   "execution_count": 43,
   "metadata": {},
   "outputs": [
    {
     "name": "stdout",
     "output_type": "stream",
     "text": [
      "Training Score : 1.0\n",
      "Testing Score. : 1.0\n"
     ]
    }
   ],
   "source": [
    "print('Training Score :', reg.score(X_train, Y_train))\n",
    "print('Testing Score. :', reg.score(X_test, Y_test))\n",
    "## its a quite good score but but we see that our data follow some polynomial type of trend so we have to check for other also"
   ]
  },
  {
   "cell_type": "markdown",
   "metadata": {},
   "source": [
    "## Predicting the value from test"
   ]
  },
  {
   "cell_type": "code",
   "execution_count": 44,
   "metadata": {},
   "outputs": [
    {
     "data": {
      "text/plain": [
       "array([-0.11859544,  0.00170224,  0.12011945, -0.0020747 ,  1.        ,\n",
       "        0.16190926])"
      ]
     },
     "execution_count": 44,
     "metadata": {},
     "output_type": "execute_result"
    }
   ],
   "source": [
    "X_test[0,:]\n",
    "##scaled value of Xtest it shows"
   ]
  },
  {
   "cell_type": "code",
   "execution_count": 45,
   "metadata": {},
   "outputs": [
    {
     "data": {
      "text/plain": [
       "array([[0.0217]])"
      ]
     },
     "execution_count": 45,
     "metadata": {},
     "output_type": "execute_result"
    }
   ],
   "source": [
    "reg.predict([X_test[0,:]])"
   ]
  },
  {
   "cell_type": "code",
   "execution_count": 46,
   "metadata": {},
   "outputs": [
    {
     "data": {
      "text/plain": [
       "array([[0.0217],\n",
       "       [0.0215],\n",
       "       [0.0238],\n",
       "       [0.0224],\n",
       "       [0.0239]])"
      ]
     },
     "execution_count": 46,
     "metadata": {},
     "output_type": "execute_result"
    }
   ],
   "source": [
    "y_pred = reg.predict(X_test)\n",
    "y_pred"
   ]
  },
  {
   "cell_type": "code",
   "execution_count": 47,
   "metadata": {},
   "outputs": [
    {
     "data": {
      "text/html": [
       "<div>\n",
       "<style scoped>\n",
       "    .dataframe tbody tr th:only-of-type {\n",
       "        vertical-align: middle;\n",
       "    }\n",
       "\n",
       "    .dataframe tbody tr th {\n",
       "        vertical-align: top;\n",
       "    }\n",
       "\n",
       "    .dataframe thead th {\n",
       "        text-align: right;\n",
       "    }\n",
       "</style>\n",
       "<table border=\"1\" class=\"dataframe\">\n",
       "  <thead>\n",
       "    <tr style=\"text-align: right;\">\n",
       "      <th></th>\n",
       "      <th>Exergy_Efficiency</th>\n",
       "    </tr>\n",
       "  </thead>\n",
       "  <tbody>\n",
       "    <tr>\n",
       "      <th>11</th>\n",
       "      <td>0.0217</td>\n",
       "    </tr>\n",
       "    <tr>\n",
       "      <th>10</th>\n",
       "      <td>0.0215</td>\n",
       "    </tr>\n",
       "    <tr>\n",
       "      <th>21</th>\n",
       "      <td>0.0238</td>\n",
       "    </tr>\n",
       "    <tr>\n",
       "      <th>14</th>\n",
       "      <td>0.0224</td>\n",
       "    </tr>\n",
       "    <tr>\n",
       "      <th>20</th>\n",
       "      <td>0.0239</td>\n",
       "    </tr>\n",
       "  </tbody>\n",
       "</table>\n",
       "</div>"
      ],
      "text/plain": [
       "    Exergy_Efficiency\n",
       "11             0.0217\n",
       "10             0.0215\n",
       "21             0.0238\n",
       "14             0.0224\n",
       "20             0.0239"
      ]
     },
     "execution_count": 47,
     "metadata": {},
     "output_type": "execute_result"
    }
   ],
   "source": [
    "Y_test"
   ]
  },
  {
   "cell_type": "code",
   "execution_count": 48,
   "metadata": {},
   "outputs": [],
   "source": [
    "from sklearn.metrics import mean_squared_error"
   ]
  },
  {
   "cell_type": "code",
   "execution_count": 49,
   "metadata": {},
   "outputs": [],
   "source": [
    "mse = mean_squared_error(Y_test,y_pred)\n",
    "rmse =np.sqrt(mse)"
   ]
  },
  {
   "cell_type": "code",
   "execution_count": 50,
   "metadata": {},
   "outputs": [
    {
     "name": "stdout",
     "output_type": "stream",
     "text": [
      "mse 4.81482486096809e-36\n",
      "rmse 2.194270917860438e-18\n"
     ]
    }
   ],
   "source": [
    "print(\"mse\",mse)\n",
    "print(\"rmse\",rmse)"
   ]
  },
  {
   "cell_type": "code",
   "execution_count": null,
   "metadata": {},
   "outputs": [],
   "source": []
  }
 ],
 "metadata": {
  "kernelspec": {
   "display_name": "Python 3",
   "language": "python",
   "name": "python3"
  },
  "language_info": {
   "codemirror_mode": {
    "name": "ipython",
    "version": 3
   },
   "file_extension": ".py",
   "mimetype": "text/x-python",
   "name": "python",
   "nbconvert_exporter": "python",
   "pygments_lexer": "ipython3",
   "version": "3.7.6"
  }
 },
 "nbformat": 4,
 "nbformat_minor": 4
}
